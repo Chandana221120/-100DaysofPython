{
 "cells": [
  {
   "cell_type": "code",
   "execution_count": 1,
   "id": "765a3216",
   "metadata": {},
   "outputs": [
    {
     "data": {
      "text/plain": [
       "6"
      ]
     },
     "execution_count": 1,
     "metadata": {},
     "output_type": "execute_result"
    }
   ],
   "source": [
    "def my_function():\n",
    "    result = 3*2\n",
    "    return result\n",
    "\n",
    "output = my_function()\n",
    "output"
   ]
  },
  {
   "cell_type": "code",
   "execution_count": 2,
   "id": "983391a9",
   "metadata": {},
   "outputs": [
    {
     "name": "stdout",
     "output_type": "stream",
     "text": [
      "What is your first name?angELD\n",
      "What is your last name?yPI\n",
      "Angeld Ypi \n"
     ]
    }
   ],
   "source": [
    "def format_name(f_name, l_name):\n",
    "    if f_name == \"\" or l_name == \"\":\n",
    "        return \"You did not provide valid inputs.\"\n",
    "    formatted_f = f_name.title()\n",
    "    formatted_l = l_name.title()\n",
    "    return(f\"{formatted_f} {formatted_l} \")\n",
    "\n",
    "print(format_name(input(\"What is your first name?\"),input(\"What is your last name?\")))"
   ]
  },
  {
   "cell_type": "code",
   "execution_count": 3,
   "id": "773797cf",
   "metadata": {},
   "outputs": [
    {
     "name": "stdout",
     "output_type": "stream",
     "text": [
      "Enter a year: 2020\n",
      "Enter a month(in number): 2\n",
      "29\n"
     ]
    }
   ],
   "source": [
    "# Days in a month in any year\n",
    "def is_leap(year):\n",
    "    if year % 4 == 0:\n",
    "        if year % 100 == 0:\n",
    "            if year % 400 == 0:\n",
    "                return True\n",
    "            else:\n",
    "                return False\n",
    "        else: \n",
    "            return True\n",
    "    else:\n",
    "        return False\n",
    "        \n",
    "def days_in_months(y,m):\n",
    "    if m > 12 or m < 1:\n",
    "        return \"Invalid month\"\n",
    "    month_days = [31,28,31,30,31,30,31,31,30,31,30,31]\n",
    "    if is_leap(y) and  m == 2:\n",
    "        return 29\n",
    "    else:\n",
    "        return month_days[m-1]\n",
    "\n",
    "year = int(input(\"Enter a year: \"))\n",
    "month = int(input(\"Enter a month(in number): \"))\n",
    "days = days_in_months(year,month)\n",
    "print(days)"
   ]
  },
  {
   "cell_type": "code",
   "execution_count": 4,
   "id": "0fdb67fa",
   "metadata": {},
   "outputs": [],
   "source": [
    "# Doc Strings is used to documenting a function. Usualy the first line in a function. Written between triple quotes.\n",
    "def format_name(f_name, l_name):\n",
    "    '''Takes first and last na,e and format and return it'''\n",
    "    formatted_f = f_name.title()\n",
    "    formatted_l = l_name.title()\n",
    "    return(f\"{formatted_f} {formatted_l} \")"
   ]
  },
  {
   "cell_type": "code",
   "execution_count": 5,
   "id": "8e5dca06",
   "metadata": {},
   "outputs": [],
   "source": [
    "# Calculator - logo\n",
    "logo = \"\"\"\n",
    " _____________________\n",
    "|  _________________  |\n",
    "| | Pythonista   0. | |  .----------------.  .----------------.  .----------------.  .----------------. \n",
    "| |_________________| | | .--------------. || .--------------. || .--------------. || .--------------. |\n",
    "|  ___ ___ ___   ___  | | |     ______   | || |      __      | || |   _____      | || |     ______   | |\n",
    "| | 7 | 8 | 9 | | + | | | |   .' ___  |  | || |     /  \\     | || |  |_   _|     | || |   .' ___  |  | |\n",
    "| |___|___|___| |___| | | |  / .'   \\_|  | || |    / /\\ \\    | || |    | |       | || |  / .'   \\_|  | |\n",
    "| | 4 | 5 | 6 | | - | | | |  | |         | || |   / ____ \\   | || |    | |   _   | || |  | |         | |\n",
    "| |___|___|___| |___| | | |  \\ `.___.'\\  | || | _/ /    \\ \\_ | || |   _| |__/ |  | || |  \\ `.___.'\\  | |\n",
    "| | 1 | 2 | 3 | | x | | | |   `._____.'  | || ||____|  |____|| || |  |________|  | || |   `._____.'  | |\n",
    "| |___|___|___| |___| | | |              | || |              | || |              | || |              | |\n",
    "| | . | 0 | = | | / | | | '--------------' || '--------------' || '--------------' || '--------------' |\n",
    "| |___|___|___| |___| |  '----------------'  '----------------'  '----------------'  '----------------' \n",
    "|_____________________|\n",
    "\"\"\""
   ]
  },
  {
   "cell_type": "code",
   "execution_count": 8,
   "id": "b8d397f8",
   "metadata": {},
   "outputs": [
    {
     "name": "stdout",
     "output_type": "stream",
     "text": [
      "What is your first number? 12\n",
      "What is your second number? 2\n",
      "+\n",
      "-\n",
      "*\n",
      "/\n",
      "Pick up an operation from above line? +\n",
      "12 + 2 = 14\n"
     ]
    }
   ],
   "source": [
    "# Calculator - part 1\n",
    "def add(n1,n2):\n",
    "    return n1+n2\n",
    "def subtract(n1,n2):\n",
    "    return n1-n2\n",
    "def multiply(n1,n2):\n",
    "    return n1*n2\n",
    "def divide(n1,n2):\n",
    "    return n1/n2\n",
    "# create dictionary\n",
    "operations = {\"+\":add , \"-\":subtract ,\"*\":multiply, \"/\": divide}\n",
    "num1 = int(input(\"What is your first number? \"))\n",
    "num2 = int(input(\"What is your second number? \"))\n",
    "for x in operations:\n",
    "    print(x)\n",
    "operation_symbol = input(\"Pick up an operation from above line? \")\n",
    "\n",
    "result = operations[operation_symbol](num1,num2)\n",
    "\n",
    "print(f\"{num1} {operation_symbol} {num2} = {result}\")"
   ]
  },
  {
   "cell_type": "code",
   "execution_count": null,
   "id": "a96848fc",
   "metadata": {},
   "outputs": [
    {
     "name": "stdout",
     "output_type": "stream",
     "text": [
      "\n",
      " _____________________\n",
      "|  _________________  |\n",
      "| | Pythonista   0. | |  .----------------.  .----------------.  .----------------.  .----------------. \n",
      "| |_________________| | | .--------------. || .--------------. || .--------------. || .--------------. |\n",
      "|  ___ ___ ___   ___  | | |     ______   | || |      __      | || |   _____      | || |     ______   | |\n",
      "| | 7 | 8 | 9 | | + | | | |   .' ___  |  | || |     /  \\     | || |  |_   _|     | || |   .' ___  |  | |\n",
      "| |___|___|___| |___| | | |  / .'   \\_|  | || |    / /\\ \\    | || |    | |       | || |  / .'   \\_|  | |\n",
      "| | 4 | 5 | 6 | | - | | | |  | |         | || |   / ____ \\   | || |    | |   _   | || |  | |         | |\n",
      "| |___|___|___| |___| | | |  \\ `.___.'\\  | || | _/ /    \\ \\_ | || |   _| |__/ |  | || |  \\ `.___.'\\  | |\n",
      "| | 1 | 2 | 3 | | x | | | |   `._____.'  | || ||____|  |____|| || |  |________|  | || |   `._____.'  | |\n",
      "| |___|___|___| |___| | | |              | || |              | || |              | || |              | |\n",
      "| | . | 0 | = | | / | | | '--------------' || '--------------' || '--------------' || '--------------' |\n",
      "| |___|___|___| |___| |  '----------------'  '----------------'  '----------------'  '----------------' \n",
      "|_____________________|\n",
      "\n",
      "What's the first number?: 1000\n",
      "+\n",
      "-\n",
      "*\n",
      "/\n",
      "Pick an operation: *\n",
      "What's the next number?: 1000\n",
      "1000.0 * 1000.0 = 1000000.0\n",
      "Type 'y' to continue calculating with 1000000.0, or type 'n' to start a new calculation: y\n",
      "Pick an operation: *\n",
      "What's the next number?: 8000\n",
      "1000000.0 * 8000.0 = 8000000000.0\n",
      "Type 'y' to continue calculating with 8000000000.0, or type 'n' to start a new calculation: n\n",
      "\n",
      " _____________________\n",
      "|  _________________  |\n",
      "| | Pythonista   0. | |  .----------------.  .----------------.  .----------------.  .----------------. \n",
      "| |_________________| | | .--------------. || .--------------. || .--------------. || .--------------. |\n",
      "|  ___ ___ ___   ___  | | |     ______   | || |      __      | || |   _____      | || |     ______   | |\n",
      "| | 7 | 8 | 9 | | + | | | |   .' ___  |  | || |     /  \\     | || |  |_   _|     | || |   .' ___  |  | |\n",
      "| |___|___|___| |___| | | |  / .'   \\_|  | || |    / /\\ \\    | || |    | |       | || |  / .'   \\_|  | |\n",
      "| | 4 | 5 | 6 | | - | | | |  | |         | || |   / ____ \\   | || |    | |   _   | || |  | |         | |\n",
      "| |___|___|___| |___| | | |  \\ `.___.'\\  | || | _/ /    \\ \\_ | || |   _| |__/ |  | || |  \\ `.___.'\\  | |\n",
      "| | 1 | 2 | 3 | | x | | | |   `._____.'  | || ||____|  |____|| || |  |________|  | || |   `._____.'  | |\n",
      "| |___|___|___| |___| | | |              | || |              | || |              | || |              | |\n",
      "| | . | 0 | = | | / | | | '--------------' || '--------------' || '--------------' || '--------------' |\n",
      "| |___|___|___| |___| |  '----------------'  '----------------'  '----------------'  '----------------' \n",
      "|_____________________|\n",
      "\n"
     ]
    }
   ],
   "source": [
    "# Final Code\n",
    "def add(n1, n2):\n",
    "    return n1 + n2\n",
    "def subtract(n1, n2):\n",
    "    return n1 - n2\n",
    "def multiply(n1, n2):\n",
    "    return n1 * n2\n",
    "def divide(n1, n2):\n",
    "    return n1 / n2\n",
    "\n",
    "operations = {\n",
    "  \"+\": add,\n",
    "  \"-\": subtract,\n",
    "  \"*\": multiply,\n",
    "  \"/\": divide\n",
    "}\n",
    "\n",
    "def calculator():\n",
    "    print(logo)\n",
    "   \n",
    "    num1 = float(input(\"What's the first number?: \"))\n",
    "    for symbol in operations:\n",
    "        print(symbol)\n",
    "    should_continue = True\n",
    "    \n",
    "    while should_continue:\n",
    "        operation_symbol = input(\"Pick an operation: \")\n",
    "        num2 = float(input(\"What's the next number?: \"))\n",
    "        calculation_function = operations[operation_symbol]\n",
    "        answer = calculation_function(num1, num2)\n",
    "        print(f\"{num1} {operation_symbol} {num2} = {answer}\")\n",
    "\n",
    "        if input(f\"Type 'y' to continue calculating with {answer}, or type 'n' to start a new calculation: \") == 'y':\n",
    "            num1 = answer\n",
    "        else:\n",
    "            should_continue = False\n",
    "            #clear()\n",
    "            calculator()\n",
    "\n",
    "calculator()"
   ]
  },
  {
   "cell_type": "code",
   "execution_count": null,
   "id": "4750e9a5",
   "metadata": {},
   "outputs": [],
   "source": []
  }
 ],
 "metadata": {
  "kernelspec": {
   "display_name": "Python 3 (ipykernel)",
   "language": "python",
   "name": "python3"
  },
  "language_info": {
   "codemirror_mode": {
    "name": "ipython",
    "version": 3
   },
   "file_extension": ".py",
   "mimetype": "text/x-python",
   "name": "python",
   "nbconvert_exporter": "python",
   "pygments_lexer": "ipython3",
   "version": "3.9.12"
  }
 },
 "nbformat": 4,
 "nbformat_minor": 5
}
