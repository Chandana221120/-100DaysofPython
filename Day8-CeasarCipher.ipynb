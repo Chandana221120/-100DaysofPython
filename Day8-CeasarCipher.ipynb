{
 "cells": [
  {
   "cell_type": "code",
   "execution_count": null,
   "id": "7f084b75",
   "metadata": {},
   "outputs": [],
   "source": [
    "# Functions with input parameters\n",
    "def greet_with_name(name,location):\n",
    "    print(f\"Hello {name}\")\n",
    "    print(f\"How do you do {name}?\")\n",
    "    print(f\"What is it like in {location}?\")\n",
    "\n",
    "greet_with_name('Jack Dorsey', 'London')"
   ]
  },
  {
   "cell_type": "code",
   "execution_count": null,
   "id": "0f3f4e1f",
   "metadata": {},
   "outputs": [],
   "source": [
    "# Area calcs\n",
    "test_h = int(input(\"Height of wall: \"))\n",
    "test_w = int(input(\"Weight of wall: \"))\n",
    "coverage = 5\n",
    "\n",
    "import math\n",
    "def paint_cal(height, weight, coverage):\n",
    "    number_of_cans = math.ceil((height * weight) / coverage)\n",
    "    print(f\"You will need {number_of_cans} number of cans of paint.\")\n",
    "\n",
    "paint_cal(height = test_h, weight = test_w, coverage= coverage)"
   ]
  },
  {
   "cell_type": "code",
   "execution_count": null,
   "id": "396d149d",
   "metadata": {},
   "outputs": [],
   "source": [
    "# Prime number check\n",
    "def prime_checker(number):\n",
    "    is_prime = False\n",
    "    if number == 1:\n",
    "        print(\"Number is not prime\")\n",
    "    elif number > 1:\n",
    "        for i in range(2,number):\n",
    "            if number % i == 0:\n",
    "                is_prime = True\n",
    "        if is_prime:\n",
    "            print(\"It is a not prime number\")\n",
    "        else:\n",
    "            print(\"It is a prime number\")\n",
    "        \n",
    "n = int(input(\"Check this number: \"))\n",
    "prime_checker(number = n)"
   ]
  },
  {
   "cell_type": "code",
   "execution_count": 9,
   "id": "1295d761",
   "metadata": {},
   "outputs": [
    {
     "name": "stdout",
     "output_type": "stream",
     "text": [
      "The encided text is jlmnsusqpsqpusqs\n"
     ]
    }
   ],
   "source": [
    "# Ceasar Cipher - Part 1\n",
    "alphabet = ['a', 'b', 'c', 'd', 'e', 'f', 'g', 'h', 'i', 'j', 'k', 'l', 'm', 'n', 'o', 'p', 'q', 'r', 's', 't', 'u', 'v', 'w', 'x', 'y', 'z']\n",
    "\n",
    "# Create fun called encrypt, to shift each letter of text forwards in alp shift amount, print encrypted text.\n",
    "\n",
    "text = 'acdejljhgjhgljhj'\n",
    "shift = 9\n",
    "text_list = [i for i in text]\n",
    "\n",
    "def encrypt(text,shift):\n",
    "    cipher_text = \"\"\n",
    "    for letter in text:\n",
    "        current_index = alphabet.index(letter)\n",
    "        shifted_index = current_index + shift\n",
    "        new_letter = alphabet[shifted_index]\n",
    "        cipher_text += new_letter\n",
    "    print(f\"The encripted text is {cipher_text}\")\n",
    "    \n",
    "encrypt(text,shift)"
   ]
  },
  {
   "cell_type": "code",
   "execution_count": 14,
   "id": "953e7c9f",
   "metadata": {},
   "outputs": [
    {
     "name": "stdout",
     "output_type": "stream",
     "text": [
      "The decripted text is acdejljhgjhgljhj\n"
     ]
    }
   ],
   "source": [
    "# Create fun called decrypt, to shift each letter of text backwards in alp shift amount, print decrypted text.\n",
    "def decrypt(text,shift):\n",
    "    deciphered_text = \"\"\n",
    "    for letter in text:\n",
    "        current_index = alphabet.index(letter)\n",
    "        shifted_index = current_index -  shift\n",
    "        deciphered_text += alphabet[shifted_index]\n",
    "    print(f\"The decripted text is {deciphered_text}\")\n",
    "\n",
    "decrypt('jlmnsusqpsqpusqs',9)\n",
    " "
   ]
  },
  {
   "cell_type": "code",
   "execution_count": 27,
   "id": "77fcef08",
   "metadata": {},
   "outputs": [
    {
     "name": "stdout",
     "output_type": "stream",
     "text": [
      "The decripted text is abc\n"
     ]
    }
   ],
   "source": [
    "if direction == 'encode':\n",
    "    encrypt(text = text, shift = shift)\n",
    "elif direction == 'decode':\n",
    "    decrypt(text = text, shift = shift)       "
   ]
  },
  {
   "cell_type": "code",
   "execution_count": 29,
   "id": "03ad0134",
   "metadata": {},
   "outputs": [],
   "source": [
    "logo = \"\"\"           \n",
    " ,adPPYba, ,adPPYYba,  ,adPPYba, ,adPPYba, ,adPPYYba, 8b,dPPYba,  \n",
    "a8\"     \"\" \"\"     `Y8 a8P_____88 I8[    \"\" \"\"     `Y8 88P'   \"Y8  \n",
    "8b         ,adPPPPP88 8PP\"\"\"\"\"\"\"  `\"Y8ba,  ,adPPPPP88 88          \n",
    "\"8a,   ,aa 88,    ,88 \"8b,   ,aa aa    ]8I 88,    ,88 88          \n",
    " `\"Ybbd8\"' `\"8bbdP\"Y8  `\"Ybbd8\"' `\"YbbdP\"' `\"8bbdP\"Y8 88   \n",
    "            88             88                                 \n",
    "           \"\"             88                                 \n",
    "                          88                                 \n",
    " ,adPPYba, 88 8b,dPPYba,  88,dPPYba,   ,adPPYba, 8b,dPPYba,  \n",
    "a8\"     \"\" 88 88P'    \"8a 88P'    \"8a a8P_____88 88P'   \"Y8  \n",
    "8b         88 88       d8 88       88 8PP\"\"\"\"\"\"\" 88          \n",
    "\"8a,   ,aa 88 88b,   ,a8\" 88       88 \"8b,   ,aa 88          \n",
    " `\"Ybbd8\"' 88 88`YbbdP\"'  88       88  `\"Ybbd8\"' 88          \n",
    "              88                                             \n",
    "              88           \n",
    "\"\"\""
   ]
  },
  {
   "cell_type": "code",
   "execution_count": null,
   "id": "61b59b38",
   "metadata": {},
   "outputs": [],
   "source": [
    "# Reorganising the code into one\n",
    "logo = \"\"\"           \n",
    " ,adPPYba, ,adPPYYba,  ,adPPYba, ,adPPYba, ,adPPYYba, 8b,dPPYba,  \n",
    "a8\"     \"\" \"\"     `Y8 a8P_____88 I8[    \"\" \"\"     `Y8 88P'   \"Y8  \n",
    "8b         ,adPPPPP88 8PP\"\"\"\"\"\"\"  `\"Y8ba,  ,adPPPPP88 88          \n",
    "\"8a,   ,aa 88,    ,88 \"8b,   ,aa aa    ]8I 88,    ,88 88          \n",
    " `\"Ybbd8\"' `\"8bbdP\"Y8  `\"Ybbd8\"' `\"YbbdP\"' `\"8bbdP\"Y8 88   \n",
    "            88             88                                 \n",
    "           \"\"             88                                 \n",
    "                          88                                 \n",
    " ,adPPYba, 88 8b,dPPYba,  88,dPPYba,   ,adPPYba, 8b,dPPYba,  \n",
    "a8\"     \"\" 88 88P'    \"8a 88P'    \"8a a8P_____88 88P'   \"Y8  \n",
    "8b         88 88       d8 88       88 8PP\"\"\"\"\"\"\" 88          \n",
    "\"8a,   ,aa 88 88b,   ,a8\" 88       88 \"8b,   ,aa 88          \n",
    " `\"Ybbd8\"' 88 88`YbbdP\"'  88       88  `\"Ybbd8\"' 88          \n",
    "              88                                             \n",
    "              88           \n",
    "\"\"\"\n",
    "\n",
    "print(logo)\n",
    "direction = input(\"Type 'encode' to encrypt, type 'decode' to decrypt:\\n\")\n",
    "text = input(\"Type your message:\\n\").lower()\n",
    "shift = int(input(\"Type the shift number:\\n\"))\n",
    "\n",
    "def ceasar(start_text, shift_amount, cipher_direction):\n",
    "    end_text = \"\"\n",
    "    if cipher_direction  == 'decode':\n",
    "            shift_amount *= -1\n",
    "    for letter in start_text:\n",
    "        position = alphabet.index(letter)\n",
    "        new_position = position + shift_amount\n",
    "        end_text += alphabet[new_position]\n",
    "    print(f\"The {cipher_direction} text is {end_text}\")\n",
    "    \n",
    "ceasar(start_text= text, shift_amount=shift, cipher_direction= direction)"
   ]
  },
  {
   "cell_type": "code",
   "execution_count": null,
   "id": "4573043f",
   "metadata": {},
   "outputs": [],
   "source": []
  }
 ],
 "metadata": {
  "kernelspec": {
   "display_name": "Python 3 (ipykernel)",
   "language": "python",
   "name": "python3"
  },
  "language_info": {
   "codemirror_mode": {
    "name": "ipython",
    "version": 3
   },
   "file_extension": ".py",
   "mimetype": "text/x-python",
   "name": "python",
   "nbconvert_exporter": "python",
   "pygments_lexer": "ipython3",
   "version": "3.9.12"
  }
 },
 "nbformat": 4,
 "nbformat_minor": 5
}
