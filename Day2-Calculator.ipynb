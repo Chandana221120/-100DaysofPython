{
 "cells": [
  {
   "cell_type": "code",
   "execution_count": 3,
   "id": "6f25a06d",
   "metadata": {},
   "outputs": [
    {
     "name": "stdout",
     "output_type": "stream",
     "text": [
      "Welcome to the top calculator\n",
      "\n",
      "What is total?\n",
      "125\n",
      "How many people should split the bill?\n",
      "5\n",
      "What percent tip would you like to give? 01,12 or 15?\n",
      "12\n",
      "Each person should pay 27.4\n"
     ]
    }
   ],
   "source": [
    "# Simple Tip Calculator\n",
    "print(\"Welcome to the top calculator\\n\")\n",
    "a = int(input(\"What is total?\\n\"))\n",
    "b = int(input(\"How many people should split the bill?\\n\"))\n",
    "c = int(input(\"What percent tip would you like to give? 01,12 or 15?\\n\"))\n",
    "d = (a+c)/b\n",
    "print(\"Each person should pay\" , d)"
   ]
  },
  {
   "cell_type": "code",
   "execution_count": 10,
   "id": "10c6c7ab",
   "metadata": {},
   "outputs": [
    {
     "name": "stdout",
     "output_type": "stream",
     "text": [
      "your score is 0 and height is 1.8 \n"
     ]
    }
   ],
   "source": [
    "# f-string\n",
    "score = 0\n",
    "height = 1.8\n",
    "iswinnint = True\n",
    "print(f\"your score is {score} and height is {height}\")"
   ]
  },
  {
   "cell_type": "code",
   "execution_count": 6,
   "id": "fb035ac5",
   "metadata": {},
   "outputs": [
    {
     "name": "stdout",
     "output_type": "stream",
     "text": [
      "7.0\n"
     ]
    }
   ],
   "source": [
    "# PEDMAS\n",
    "print(3*3+3/3-3)"
   ]
  },
  {
   "cell_type": "code",
   "execution_count": 9,
   "id": "fde0ad08",
   "metadata": {},
   "outputs": [
    {
     "name": "stdout",
     "output_type": "stream",
     "text": [
      "What is your weight?\n",
      "80\n",
      "What is your height?\n",
      "1.75\n",
      "Your BMI is  26\n"
     ]
    }
   ],
   "source": [
    "# BMI Calculator\n",
    "a = float(input(\"What is your weight?\\n\"))\n",
    "b = float(input(\"What is your height?\\n\"))\n",
    "c = round(a/b**2)\n",
    "print(\"Your BMI is \", c)"
   ]
  },
  {
   "cell_type": "code",
   "execution_count": 12,
   "id": "b29e807b",
   "metadata": {},
   "outputs": [
    {
     "name": "stdout",
     "output_type": "stream",
     "text": [
      "what is your current age?56\n",
      "you have 12410 days, 1773 week and 414 months left\n"
     ]
    }
   ],
   "source": [
    "age = input(\"what is your current age?\")\n",
    "tot_years = 90*365\n",
    "you_years = int(age)*365\n",
    "days_left = tot_years - you_years\n",
    "weeks_left = round(days_left /7)\n",
    "months_left = round(days_left /30)\n",
    "print(f\"you have {days_left} days, {weeks_left} week and {months_left } months left\")"
   ]
  },
  {
   "cell_type": "code",
   "execution_count": 13,
   "id": "edca4aa4",
   "metadata": {},
   "outputs": [
    {
     "name": "stdout",
     "output_type": "stream",
     "text": [
      "6.0\n"
     ]
    }
   ],
   "source": [
    "print(6 + 4 / 2 - (1 * 2))"
   ]
  },
  {
   "cell_type": "code",
   "execution_count": 14,
   "id": "e8cbaf75",
   "metadata": {},
   "outputs": [
    {
     "data": {
      "text/plain": [
       "2.5"
      ]
     },
     "execution_count": 14,
     "metadata": {},
     "output_type": "execute_result"
    }
   ],
   "source": [
    "int(\"5\") / int(2.7)"
   ]
  }
 ],
 "metadata": {
  "kernelspec": {
   "display_name": "Python 3 (ipykernel)",
   "language": "python",
   "name": "python3"
  },
  "language_info": {
   "codemirror_mode": {
    "name": "ipython",
    "version": 3
   },
   "file_extension": ".py",
   "mimetype": "text/x-python",
   "name": "python",
   "nbconvert_exporter": "python",
   "pygments_lexer": "ipython3",
   "version": "3.9.12"
  }
 },
 "nbformat": 4,
 "nbformat_minor": 5
}
