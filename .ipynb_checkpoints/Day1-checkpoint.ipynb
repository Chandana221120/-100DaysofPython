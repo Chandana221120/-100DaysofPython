{
 "cells": [
  {
   "cell_type": "code",
   "execution_count": null,
   "id": "09c0da05",
   "metadata": {},
   "outputs": [],
   "source": [
    "print(\"Hello World\")"
   ]
  },
  {
   "cell_type": "code",
   "execution_count": null,
   "id": "98af8e94",
   "metadata": {},
   "outputs": [],
   "source": [
    "print(\"i\")"
   ]
  },
  {
   "cell_type": "code",
   "execution_count": null,
   "id": "c397d165",
   "metadata": {},
   "outputs": [],
   "source": [
    "input(\"What is you name\")"
   ]
  },
  {
   "cell_type": "code",
   "execution_count": null,
   "id": "1d5e46c3",
   "metadata": {},
   "outputs": [],
   "source": [
    "print(\"Hello\" + \"    \" + input(\"What is you name\" ))"
   ]
  },
  {
   "cell_type": "code",
   "execution_count": null,
   "id": "95ec247b",
   "metadata": {},
   "outputs": [],
   "source": [
    "a = input(\"What is your name\")\n",
    "b = input(\"What is you rpet name\")\n",
    "print(\"Your name could be\" + \" \" + a + \" \" + b)"
   ]
  },
  {
   "cell_type": "code",
   "execution_count": null,
   "id": "0cd7d7aa",
   "metadata": {},
   "outputs": [],
   "source": [
    "a = input(\"a:\")\n",
    "b = input(\"b:\")\n",
    "\n",
    "c = a\n",
    "a = b\n",
    "b = c\n",
    "\n",
    "print(\"a= \" + a)\n",
    "print(\"b= \" + b)"
   ]
  },
  {
   "cell_type": "code",
   "execution_count": null,
   "id": "1c7b77c2",
   "metadata": {},
   "outputs": [],
   "source": [
    "print(\"Welcome to the Band Name generator\\n\")\n",
    "a = input(\"What is your name?\\n\")\n",
    "b = input(\"What is you pet name?\\n\")\n",
    "print(\"Your name could be\" + \" \" + a + \" \" + b)"
   ]
  }
 ],
 "metadata": {
  "kernelspec": {
   "display_name": "Python 3 (ipykernel)",
   "language": "python",
   "name": "python3"
  },
  "language_info": {
   "codemirror_mode": {
    "name": "ipython",
    "version": 3
   },
   "file_extension": ".py",
   "mimetype": "text/x-python",
   "name": "python",
   "nbconvert_exporter": "python",
   "pygments_lexer": "ipython3",
   "version": "3.9.12"
  }
 },
 "nbformat": 4,
 "nbformat_minor": 5
}
