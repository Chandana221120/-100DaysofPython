{
 "cells": [
  {
   "cell_type": "code",
   "execution_count": 1,
   "id": "7f084b75",
   "metadata": {},
   "outputs": [
    {
     "name": "stdout",
     "output_type": "stream",
     "text": [
      "Hello Jack Dorsey\n",
      "How do you do Jack Dorsey?\n",
      "What is it like in London?\n"
     ]
    }
   ],
   "source": [
    "# Functions with input parameters\n",
    "def greet_with_name(name,location):\n",
    "    print(f\"Hello {name}\")\n",
    "    print(f\"How do you do {name}?\")\n",
    "    print(f\"What is it like in {location}?\")\n",
    "\n",
    "greet_with_name('Jack Dorsey', 'London')"
   ]
  },
  {
   "cell_type": "code",
   "execution_count": 2,
   "id": "0f3f4e1f",
   "metadata": {},
   "outputs": [
    {
     "name": "stdout",
     "output_type": "stream",
     "text": [
      "Height of wall: 12\n",
      "Weight of wall: 2\n",
      "You will need 5 number of cans of paint.\n"
     ]
    }
   ],
   "source": [
    "# Area calcs\n",
    "test_h = int(input(\"Height of wall: \"))\n",
    "test_w = int(input(\"Weight of wall: \"))\n",
    "coverage = 5\n",
    "\n",
    "import math\n",
    "def paint_cal(height, weight, coverage):\n",
    "    number_of_cans = math.ceil((height * weight) / coverage)\n",
    "    print(f\"You will need {number_of_cans} number of cans of paint.\")\n",
    "\n",
    "paint_cal(height = test_h, weight = test_w, coverage= coverage)"
   ]
  },
  {
   "cell_type": "code",
   "execution_count": 3,
   "id": "396d149d",
   "metadata": {},
   "outputs": [
    {
     "name": "stdout",
     "output_type": "stream",
     "text": [
      "Check this number: 2\n",
      "It is a prime number\n"
     ]
    }
   ],
   "source": [
    "# Prime number check\n",
    "def prime_checker(number):\n",
    "    is_prime = False\n",
    "    if number == 1:\n",
    "        print(\"Number is not prime\")\n",
    "    elif number > 1:\n",
    "        for i in range(2,number):\n",
    "            if number % i == 0:\n",
    "                is_prime = True\n",
    "        if is_prime:\n",
    "            print(\"It is a not prime number\")\n",
    "        else:\n",
    "            print(\"It is a prime number\")\n",
    "        \n",
    "n = int(input(\"Check this number: \"))\n",
    "prime_checker(number = n)"
   ]
  },
  {
   "cell_type": "code",
   "execution_count": 4,
   "id": "1295d761",
   "metadata": {},
   "outputs": [
    {
     "name": "stdout",
     "output_type": "stream",
     "text": [
      "The encripted text is jlmnsusqpsqpusqs\n"
     ]
    }
   ],
   "source": [
    "# Ceasar Cipher - Part 1\n",
    "alphabet = ['a', 'b', 'c', 'd', 'e', 'f', 'g', 'h', 'i', 'j', 'k', 'l', 'm', 'n', 'o', 'p', 'q', 'r', 's', 't', 'u', 'v', 'w', 'x', 'y', 'z']\n",
    "\n",
    "# Create fun called encrypt, to shift each letter of text forwards in alp shift amount, print encrypted text.\n",
    "\n",
    "text = 'acdejljhgjhgljhj'\n",
    "shift = 9\n",
    "text_list = [i for i in text]\n",
    "\n",
    "def encrypt(text,shift):\n",
    "    cipher_text = \"\"\n",
    "    for letter in text:\n",
    "        current_index = alphabet.index(letter)\n",
    "        shifted_index = current_index + shift\n",
    "        new_letter = alphabet[shifted_index]\n",
    "        cipher_text += new_letter\n",
    "    print(f\"The encripted text is {cipher_text}\")\n",
    "    \n",
    "encrypt(text,shift)"
   ]
  },
  {
   "cell_type": "code",
   "execution_count": 5,
   "id": "953e7c9f",
   "metadata": {},
   "outputs": [
    {
     "name": "stdout",
     "output_type": "stream",
     "text": [
      "The decripted text is acdejljhgjhgljhj\n"
     ]
    }
   ],
   "source": [
    "# Create fun called decrypt, to shift each letter of text backwards in alp shift amount, print decrypted text.\n",
    "def decrypt(text,shift):\n",
    "    deciphered_text = \"\"\n",
    "    for letter in text:\n",
    "        current_index = alphabet.index(letter)\n",
    "        shifted_index = current_index -  shift\n",
    "        deciphered_text += alphabet[shifted_index]\n",
    "    print(f\"The decripted text is {deciphered_text}\")\n",
    "\n",
    "decrypt('jlmnsusqpsqpusqs',9)\n",
    " "
   ]
  },
  {
   "cell_type": "code",
   "execution_count": 6,
   "id": "77fcef08",
   "metadata": {},
   "outputs": [
    {
     "ename": "NameError",
     "evalue": "name 'direction' is not defined",
     "output_type": "error",
     "traceback": [
      "\u001b[1;31m---------------------------------------------------------------------------\u001b[0m",
      "\u001b[1;31mNameError\u001b[0m                                 Traceback (most recent call last)",
      "Input \u001b[1;32mIn [6]\u001b[0m, in \u001b[0;36m<cell line: 1>\u001b[1;34m()\u001b[0m\n\u001b[1;32m----> 1\u001b[0m \u001b[38;5;28;01mif\u001b[39;00m \u001b[43mdirection\u001b[49m \u001b[38;5;241m==\u001b[39m \u001b[38;5;124m'\u001b[39m\u001b[38;5;124mencode\u001b[39m\u001b[38;5;124m'\u001b[39m:\n\u001b[0;32m      2\u001b[0m     encrypt(text \u001b[38;5;241m=\u001b[39m text, shift \u001b[38;5;241m=\u001b[39m shift)\n\u001b[0;32m      3\u001b[0m \u001b[38;5;28;01melif\u001b[39;00m direction \u001b[38;5;241m==\u001b[39m \u001b[38;5;124m'\u001b[39m\u001b[38;5;124mdecode\u001b[39m\u001b[38;5;124m'\u001b[39m:\n",
      "\u001b[1;31mNameError\u001b[0m: name 'direction' is not defined"
     ]
    }
   ],
   "source": [
    "#if direction == 'encode':\n",
    "#    encrypt(text = text, shift = shift)\n",
    "#elif direction == 'decode':\n",
    "#    decrypt(text = text, shift = shift)       "
   ]
  },
  {
   "cell_type": "code",
   "execution_count": 7,
   "id": "03ad0134",
   "metadata": {},
   "outputs": [],
   "source": [
    "logo = \"\"\"           \n",
    " ,adPPYba, ,adPPYYba,  ,adPPYba, ,adPPYba, ,adPPYYba, 8b,dPPYba,  \n",
    "a8\"     \"\" \"\"     `Y8 a8P_____88 I8[    \"\" \"\"     `Y8 88P'   \"Y8  \n",
    "8b         ,adPPPPP88 8PP\"\"\"\"\"\"\"  `\"Y8ba,  ,adPPPPP88 88          \n",
    "\"8a,   ,aa 88,    ,88 \"8b,   ,aa aa    ]8I 88,    ,88 88          \n",
    " `\"Ybbd8\"' `\"8bbdP\"Y8  `\"Ybbd8\"' `\"YbbdP\"' `\"8bbdP\"Y8 88   \n",
    "            88             88                                 \n",
    "           \"\"             88                                 \n",
    "                          88                                 \n",
    " ,adPPYba, 88 8b,dPPYba,  88,dPPYba,   ,adPPYba, 8b,dPPYba,  \n",
    "a8\"     \"\" 88 88P'    \"8a 88P'    \"8a a8P_____88 88P'   \"Y8  \n",
    "8b         88 88       d8 88       88 8PP\"\"\"\"\"\"\" 88          \n",
    "\"8a,   ,aa 88 88b,   ,a8\" 88       88 \"8b,   ,aa 88          \n",
    " `\"Ybbd8\"' 88 88`YbbdP\"'  88       88  `\"Ybbd8\"' 88          \n",
    "              88                                             \n",
    "              88           \n",
    "\"\"\""
   ]
  },
  {
   "cell_type": "code",
   "execution_count": 10,
   "id": "61b59b38",
   "metadata": {},
   "outputs": [
    {
     "name": "stdout",
     "output_type": "stream",
     "text": [
      "Type 'encode' to encrypt, type 'decode' to decrypt:\n",
      "decode\n",
      "Type your message:\n",
      "zyd\n",
      "Type the shift number:\n",
      "67\n"
     ]
    },
    {
     "ename": "IndexError",
     "evalue": "list index out of range",
     "output_type": "error",
     "traceback": [
      "\u001b[1;31m---------------------------------------------------------------------------\u001b[0m",
      "\u001b[1;31mIndexError\u001b[0m                                Traceback (most recent call last)",
      "Input \u001b[1;32mIn [10]\u001b[0m, in \u001b[0;36m<cell line: 16>\u001b[1;34m()\u001b[0m\n\u001b[0;32m     13\u001b[0m         end_text \u001b[38;5;241m+\u001b[39m\u001b[38;5;241m=\u001b[39m alphabet[new_position]\n\u001b[0;32m     14\u001b[0m     \u001b[38;5;28mprint\u001b[39m(\u001b[38;5;124mf\u001b[39m\u001b[38;5;124m\"\u001b[39m\u001b[38;5;124mThe \u001b[39m\u001b[38;5;132;01m{\u001b[39;00mcipher_direction\u001b[38;5;132;01m}\u001b[39;00m\u001b[38;5;124m text is \u001b[39m\u001b[38;5;132;01m{\u001b[39;00mend_text\u001b[38;5;132;01m}\u001b[39;00m\u001b[38;5;124m\"\u001b[39m)\n\u001b[1;32m---> 16\u001b[0m \u001b[43mceasar\u001b[49m\u001b[43m(\u001b[49m\u001b[43mstart_text\u001b[49m\u001b[38;5;241;43m=\u001b[39;49m\u001b[43m \u001b[49m\u001b[43mtext\u001b[49m\u001b[43m,\u001b[49m\u001b[43m \u001b[49m\u001b[43mshift_amount\u001b[49m\u001b[38;5;241;43m=\u001b[39;49m\u001b[43mshift\u001b[49m\u001b[43m,\u001b[49m\u001b[43m \u001b[49m\u001b[43mcipher_direction\u001b[49m\u001b[38;5;241;43m=\u001b[39;49m\u001b[43m \u001b[49m\u001b[43mdirection\u001b[49m\u001b[43m)\u001b[49m\n",
      "Input \u001b[1;32mIn [10]\u001b[0m, in \u001b[0;36mceasar\u001b[1;34m(start_text, shift_amount, cipher_direction)\u001b[0m\n\u001b[0;32m     11\u001b[0m     position \u001b[38;5;241m=\u001b[39m alphabet\u001b[38;5;241m.\u001b[39mindex(letter)\n\u001b[0;32m     12\u001b[0m     new_position \u001b[38;5;241m=\u001b[39m position \u001b[38;5;241m+\u001b[39m shift_amount\n\u001b[1;32m---> 13\u001b[0m     end_text \u001b[38;5;241m+\u001b[39m\u001b[38;5;241m=\u001b[39m \u001b[43malphabet\u001b[49m\u001b[43m[\u001b[49m\u001b[43mnew_position\u001b[49m\u001b[43m]\u001b[49m\n\u001b[0;32m     14\u001b[0m \u001b[38;5;28mprint\u001b[39m(\u001b[38;5;124mf\u001b[39m\u001b[38;5;124m\"\u001b[39m\u001b[38;5;124mThe \u001b[39m\u001b[38;5;132;01m{\u001b[39;00mcipher_direction\u001b[38;5;132;01m}\u001b[39;00m\u001b[38;5;124m text is \u001b[39m\u001b[38;5;132;01m{\u001b[39;00mend_text\u001b[38;5;132;01m}\u001b[39;00m\u001b[38;5;124m\"\u001b[39m)\n",
      "\u001b[1;31mIndexError\u001b[0m: list index out of range"
     ]
    }
   ],
   "source": [
    "# Reorganising the code into one\n",
    "direction = input(\"Type 'encode' to encrypt, type 'decode' to decrypt:\\n\")\n",
    "text = input(\"Type your message:\\n\").lower()\n",
    "shift = int(input(\"Type the shift number:\\n\"))\n",
    "\n",
    "def ceasar(start_text, shift_amount, cipher_direction):\n",
    "    end_text = \"\"\n",
    "    if cipher_direction  == 'decode':\n",
    "            shift_amount *= -1\n",
    "    for letter in start_text:\n",
    "        position = alphabet.index(letter)\n",
    "        new_position = position + shift_amount\n",
    "        end_text += alphabet[new_position]\n",
    "    print(f\"The {cipher_direction} text is {end_text}\")\n",
    "    \n",
    "ceasar(start_text= text, shift_amount=shift, cipher_direction= direction)"
   ]
  },
  {
   "cell_type": "code",
   "execution_count": 17,
   "id": "4573043f",
   "metadata": {},
   "outputs": [
    {
     "name": "stdout",
     "output_type": "stream",
     "text": [
      "           \n",
      " ,adPPYba, ,adPPYYba,  ,adPPYba, ,adPPYba, ,adPPYYba, 8b,dPPYba,  \n",
      "a8\"     \"\" \"\"     `Y8 a8P_____88 I8[    \"\" \"\"     `Y8 88P'   \"Y8  \n",
      "8b         ,adPPPPP88 8PP\"  `\"Y8ba,  ,adPPPPP88 88          \n",
      "\"8a,   ,aa 88,    ,88 \"8b,   ,aa aa    ]8I 88,    ,88 88          \n",
      " `\"Ybbd8\"' `\"8bbdP\"Y8  `\"Ybbd8\"' `\"YbbdP\"' `\"8bbdP\"Y8 88   \n",
      "            88             88                                 \n",
      "           \"\"             88                                 \n",
      "                          88                                 \n",
      " ,adPPYba, 88 8b,dPPYba,  88,dPPYba,   ,adPPYba, 8b,dPPYba,  \n",
      "a8\"     \"\" 88 88P'    \"8a 88P'    \"8a a8P_____88 88P'   \"Y8  \n",
      "8b         88 88       d8 88       88 8PP\" 88          \n",
      "\"8a,   ,aa 88 88b,   ,a8\" 88       88 \"8b,   ,aa 88          \n",
      " `\"Ybbd8\"' 88 88`YbbdP\"'  88       88  `\"Ybbd8\"' 88          \n",
      "              88                                             \n",
      "              88           \n",
      "\n",
      "Type 'encode' to encrypt, type 'decode' to decrypt:\n",
      "encode\n",
      "Type your message:\n",
      "abcdefgh\n",
      "Type the shift number:\n",
      "9\n",
      "The encode text is jklmnopq\n",
      "Type 'yes' if you want to go again. Otherwise type 'no'.\n",
      "yes\n",
      "Goodbye\n",
      "Type 'encode' to encrypt, type 'decode' to decrypt:\n",
      "decode\n",
      "Type your message:\n",
      "jklmnopq\n",
      "Type the shift number:\n",
      "9\n",
      "The decode text is abcdefgh\n",
      "Type 'yes' if you want to go again. Otherwise type 'no'.\n",
      "no\n",
      "Goodbye\n"
     ]
    }
   ],
   "source": [
    "alphabet = ['a', 'b', 'c', 'd', 'e', 'f', 'g', 'h', 'i', 'j', 'k', 'l', 'm', 'n', 'o', 'p', 'q', 'r', 's', 't', 'u', 'v', 'w', 'x', 'y', 'z']\n",
    "\n",
    "def ceasar(start_text, shift_amount, cipher_direction):\n",
    "    end_text = \"\"\n",
    "    if cipher_direction  == 'decode':\n",
    "            shift_amount *= -1\n",
    "    for letter in start_text:\n",
    "        position = alphabet.index(letter)\n",
    "        new_position = position + shift_amount\n",
    "        end_text += alphabet[new_position]\n",
    "    print(f\"The {cipher_direction} text is {end_text}\")\n",
    "\n",
    "print(logo)\n",
    "\n",
    "should_end = False\n",
    "\n",
    "while not should_end:\n",
    "    direction = input(\"Type 'encode' to encrypt, type 'decode' to decrypt:\\n\")\n",
    "    text = input(\"Type your message:\\n\").lower()\n",
    "    shift = int(input(\"Type the shift number:\\n\"))\n",
    "    #What if the user enters a shift that is greater than the number of letters in the alphabet?\n",
    "    shift = shift % 26\n",
    "    \n",
    "    ceasar(start_text= text, shift_amount=shift, cipher_direction= direction)\n",
    "    \n",
    "    restart = input(\"Type 'yes' if you want to go again. Otherwise type 'no'.\\n\")\n",
    "    if restart == \"no\":\n",
    "        should_end = True\n",
    "        print(\"Goodbye\")"
   ]
  }
 ],
 "metadata": {
  "kernelspec": {
   "display_name": "Python 3 (ipykernel)",
   "language": "python",
   "name": "python3"
  },
  "language_info": {
   "codemirror_mode": {
    "name": "ipython",
    "version": 3
   },
   "file_extension": ".py",
   "mimetype": "text/x-python",
   "name": "python",
   "nbconvert_exporter": "python",
   "pygments_lexer": "ipython3",
   "version": "3.9.12"
  }
 },
 "nbformat": 4,
 "nbformat_minor": 5
}
