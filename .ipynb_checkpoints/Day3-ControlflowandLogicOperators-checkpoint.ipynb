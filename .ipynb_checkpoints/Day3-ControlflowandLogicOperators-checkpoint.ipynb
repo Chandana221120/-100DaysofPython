{
 "cells": [
  {
   "cell_type": "code",
   "execution_count": 2,
   "id": "1903fdb0",
   "metadata": {},
   "outputs": [
    {
     "name": "stdout",
     "output_type": "stream",
     "text": [
      "Welcome to the rollercoaster\n",
      "Whai is your height?124\n",
      "You can ride\n"
     ]
    }
   ],
   "source": [
    "# Simple if-else\n",
    "print(\"Welcome to the rollercoaster\")\n",
    "height = int(input(\"Whai is your height?\"))\n",
    "\n",
    "if height > 120:\n",
    "    print(\"You can ride\")\n",
    "else:\n",
    "    print(\"Sorry, can't ride\")"
   ]
  },
  {
   "cell_type": "code",
   "execution_count": 5,
   "id": "ebbe29de",
   "metadata": {},
   "outputs": [
    {
     "name": "stdout",
     "output_type": "stream",
     "text": [
      "Which number do you want to check?456\n",
      "Number is even\n"
     ]
    }
   ],
   "source": [
    "# Check if number is odd or even\n",
    "number = int(input(\"Which number do you want to check?\"))\n",
    "\n",
    "if number%2 == 0:\n",
    "    print(\"Number is even\")\n",
    "else:\n",
    "    print(\"Number is odd\")"
   ]
  },
  {
   "cell_type": "code",
   "execution_count": 7,
   "id": "f06b3e51",
   "metadata": {},
   "outputs": [
    {
     "name": "stdout",
     "output_type": "stream",
     "text": [
      "Welcome to the rollercoaster\n",
      "Whai is your height?128\n",
      "You can ride\n",
      "What is your age?18\n",
      "Pay $12\n"
     ]
    }
   ],
   "source": [
    "# Nested if-else\n",
    "print(\"Welcome to the rollercoaster\")\n",
    "height = int(input(\"Whai is your height?\"))\n",
    "\n",
    "if height > 120:\n",
    "    print(\"You can ride\")\n",
    "    age = int(input(\"What is your age?\"))\n",
    "    if age >= 18:\n",
    "        print(\"Pay $12\")\n",
    "    elif age >= 12 and age < 18:\n",
    "        print(\"Pay $7\")\n",
    "    else:\n",
    "        print(\"Pay $5\")\n",
    "else:\n",
    "    print(\"Sorry, can't ride\")"
   ]
  },
  {
   "cell_type": "code",
   "execution_count": 16,
   "id": "5ded1093",
   "metadata": {},
   "outputs": [
    {
     "name": "stdout",
     "output_type": "stream",
     "text": [
      "What is your weight?\n",
      "70\n",
      "What is your height?\n",
      "1.627\n",
      "Your BMI is 26.44 , You are overweight\n"
     ]
    }
   ],
   "source": [
    "# BMI Calculator\n",
    "a = float(input(\"What is your weight?\\n\"))\n",
    "b = float(input(\"What is your height?\\n\"))\n",
    "c = round(a/b**2 , 2)\n",
    "\n",
    "if c < 18.5:\n",
    "    print(f\"Your BMI is {c} , You are underweight\")\n",
    "elif c >= 18.5 and c < 25:\n",
    "    print(f\"Your BMI is {c} , You are normal weight\")\n",
    "elif c >= 25 and c < 30:\n",
    "    print(f\"Your BMI is {c} , You are overweight\")\n",
    "elif c >= 30 and c < 35:\n",
    "    print(f\"Your BMI is {c} , You are obese\")\n",
    "elif c >= 35:\n",
    "    print(f\"Your BMI is {c} , You are clinically obese\")"
   ]
  },
  {
   "cell_type": "code",
   "execution_count": 42,
   "id": "c85cda6d",
   "metadata": {},
   "outputs": [
    {
     "name": "stdout",
     "output_type": "stream",
     "text": [
      "Which year do you want to check?2020\n",
      "Year is a leap year\n"
     ]
    }
   ],
   "source": [
    "# Check if a year is leap year or not\n",
    "# On every year that is evenly divisible by 4,\n",
    "# except every year that is evenly divisible by 100,\n",
    "# unless the year is also evenly dividible by 400.\n",
    "\n",
    "year = int(input(\"Which year do you want to check?\"))\n",
    "\n",
    "if year % 4 == 0:\n",
    "    if year % 400 != 0 & year % 100 != 0:\n",
    "        print(\"Year is a leap year\")\n",
    "    else:\n",
    "        print(\"Year is a leap year\")\n",
    "else:\n",
    "    print(\"Year is not a leap year\")"
   ]
  },
  {
   "cell_type": "code",
   "execution_count": 41,
   "id": "9a1b4ef8",
   "metadata": {},
   "outputs": [
    {
     "name": "stdout",
     "output_type": "stream",
     "text": [
      "Which year do you want to check?2020\n",
      "Year is leap year\n"
     ]
    }
   ],
   "source": [
    "# Method 2\n",
    "year = int(input(\"Which year do you want to check?\"))\n",
    "if year % 4 == 0:\n",
    "    if year % 100 == 0:\n",
    "        if year % 400 == 0:\n",
    "            print(\"Year is a leap year\")\n",
    "        else:\n",
    "            print(\"Year is not a leap year\")\n",
    "    else:\n",
    "        print(\"Year is leap year\")\n",
    "else:\n",
    "    print(\"Year is not a leap year\")"
   ]
  },
  {
   "cell_type": "code",
   "execution_count": 44,
   "id": "409a8f61",
   "metadata": {},
   "outputs": [
    {
     "name": "stdout",
     "output_type": "stream",
     "text": [
      "Welcome to the rollercoaster\n",
      "Whai is your height?147\n",
      "You can ride\n",
      "What is your age?21\n",
      "Pay $12\n",
      "Do you want a photo taken? Y or N Y\n",
      "Your final bill is 15\n"
     ]
    }
   ],
   "source": [
    "# Multiple if statements in Succession\n",
    "\n",
    "print(\"Welcome to the rollercoaster\")\n",
    "height = int(input(\"Whai is your height?\"))\n",
    "\n",
    "bill = 0\n",
    "\n",
    "if height > 120:\n",
    "    print(\"You can ride\")\n",
    "    age = int(input(\"What is your age?\"))\n",
    "    if age >= 18:\n",
    "        bill = 12\n",
    "        print(\"Pay $12\")\n",
    "    elif age >= 12 and age < 18:\n",
    "        bill = 7\n",
    "        print(\"Pay $7\")\n",
    "    else:\n",
    "        bill = 5\n",
    "        print(\"Pay $5\")\n",
    "        \n",
    "    wants_photo = input(\"Do you want a photo taken? Y or N \")\n",
    "    if wants_photo == 'Y':\n",
    "        #Add $3 to bill\n",
    "        bill += 3        \n",
    "    print(f\"Your final bill is ${bill}\")    \n",
    "    \n",
    "else:\n",
    "    print(\"Sorry, can't ride\")"
   ]
  },
  {
   "cell_type": "code",
   "execution_count": 47,
   "id": "184bc693",
   "metadata": {},
   "outputs": [
    {
     "name": "stdout",
     "output_type": "stream",
     "text": [
      "Welcome to Pizza place\n",
      "What size pizza do you want? S, M or LS\n",
      "Do you want extra pepperoni? Y or NY\n",
      "Do you want extra cheese? Y or NN\n",
      "Your final bill is $17\n"
     ]
    }
   ],
   "source": [
    "# Another Exmaple of Pizza order\n",
    "\n",
    "print(\"Welcome to Pizza place\")\n",
    "size = input(\"What size pizza do you want? S, M or L\")\n",
    "add_pepperoni = input(\"Do you want extra pepperoni? Y or N\")\n",
    "extra_cheese = input(\"Do you want extra cheese? Y or N\")\n",
    "\n",
    "bill = 0   \n",
    "        \n",
    "if size == 'S':\n",
    "    bill += 15\n",
    "elif size == 'M':\n",
    "    bill += 20\n",
    "elif size == 'L':\n",
    "    bill += 25\n",
    "    \n",
    "if extra_cheese == 'Y':\n",
    "    bill += 1\n",
    "else:\n",
    "    bill += 0\n",
    "    \n",
    "if add_pepperoni == 'Y':\n",
    "    if size == 'S':\n",
    "        bill += 2\n",
    "    else:\n",
    "        bill += 3     \n",
    "\n",
    "print(f\"Your final bill is ${bill}\")\n",
    "\n"
   ]
  },
  {
   "cell_type": "code",
   "execution_count": 1,
   "id": "97588b23",
   "metadata": {},
   "outputs": [
    {
     "name": "stdout",
     "output_type": "stream",
     "text": [
      "What is your name?\n",
      "Jennifer Lopez\n",
      "What is their name?\n",
      "Ben Affleck\n",
      "T occurs 0 times\n",
      "R occurs 1 times\n",
      "U occurs 0 times\n",
      "E occurs 3 times\n",
      "Total = 4 \n",
      "L occurs 1 times\n",
      "O occurs 0 times\n",
      "V occurs 0 times\n",
      "E occurs 2 times\n",
      "Total = 3 \n",
      "Your love_score is 43, you are alright together\n"
     ]
    }
   ],
   "source": [
    "# Love Calculator\n",
    "\n",
    "name1 = input(\"What is your name?\\n\")\n",
    "name2 = input(\"What is their name?\\n\")\n",
    "\n",
    "name1 = name1.lower()\n",
    "name2 = name2.lower()\n",
    "\n",
    "T = name1.count(\"t\")\n",
    "R = name1.count(\"r\")\n",
    "U = name1.count(\"u\")\n",
    "E = name1.count(\"e\")\n",
    "TOT = T + R + U + E\n",
    "print(f\"T occurs {T} times\")\n",
    "print(f\"R occurs {R} times\")\n",
    "print(f\"U occurs {U} times\")\n",
    "print(f\"E occurs {E} times\")\n",
    "print(f\"Total = {TOT} \")\n",
    "\n",
    "L = name2.count(\"l\")\n",
    "O = name2.count(\"o\")\n",
    "V = name2.count(\"v\")\n",
    "E = name2.count(\"e\")\n",
    "TOT2 = T + R + U + E\n",
    "print(f\"L occurs {L} times\")\n",
    "print(f\"O occurs {O} times\")\n",
    "print(f\"V occurs {V} times\")\n",
    "print(f\"E occurs {E} times\")\n",
    "print(f\"Total = {TOT2} \")\n",
    "\n",
    "love_score = (TOT*10 + TOT2)\n",
    "\n",
    "if love_score < 10 or love_score > 90:\n",
    "    print(f\"Your love_score is {love_score}, you go together like coke and mentos\")\n",
    "elif love_score >= 40 and love_score <= 50:\n",
    "    print(f\"Your love_score is {love_score}, you are alright together\")\n",
    "else:\n",
    "    print(f\"Your love_score is {love_score}\")"
   ]
  },
  {
   "cell_type": "code",
   "execution_count": 16,
   "id": "ed50ae70",
   "metadata": {},
   "outputs": [
    {
     "name": "stdout",
     "output_type": "stream",
     "text": [
      "\n",
      "*******************************************************************************\n",
      "          |                   |                  |                     |\n",
      " _________|________________.=\"\"_;=.______________|_____________________|_______\n",
      "|                   |  ,-\"_,=\"\"     `\"=.|                  |\n",
      "|___________________|__\"=._o`\"-._        `\"=.______________|___________________\n",
      "          |                `\"=._o`\"=._      _`\"=._                     |\n",
      " _________|_____________________:=._o \"=._.\"_.-=\"'\"=.__________________|_______\n",
      "|                   |    __.--\" , ; `\"=._o.\" ,-\"\"\"-._ \".   |\n",
      "|___________________|_._\"  ,. .` ` `` ,  `\"-._\"-._   \". '__|___________________\n",
      "          |           |o`\"=._` , \"` `; .\". ,  \"-._\"-._; ;              |\n",
      " _________|___________| ;`-.o`\"=._; .\" ` '`.\"\\` . \"-._ /_______________|_______\n",
      "|                   | |o;    `\"-.o`\"=._``  '` \" ,__.--o;   |\n",
      "|___________________|_| ;     (#) `-.o `\"=.`_.--\"_o.-; ;___|___________________\n",
      "____/______/______/___|o;._    \"      `\".o|o_.--\"    ;o;____/______/______/____\n",
      "/______/______/______/_\"=._o--._        ; | ;        ; ;/______/______/______/_\n",
      "____/______/______/______/__\"=._o--._   ;o|o;     _._;o;____/______/______/____\n",
      "/______/______/______/______/____\"=._o._; | ;_.--\"o.--\"_/______/______/______/_\n",
      "____/______/______/______/______/_____\"=.o|o_.--\"\"___/______/______/______/____\n",
      "/______/______/______/______/______/______/______/______/______/______/_____ /\n",
      "*******************************************************************************\n",
      "\n",
      "Welcome to Treasure Island. \n",
      "\n",
      "Your mission is to find the treasure. \n",
      "\n",
      "You are at a crossroad. Where do you want to go? Type \"left\" or \"right\" \n",
      "left\n",
      "You come to a lake.There is an island in the middle of the lake.Type \"wait\" to wait for a boat. Type \"swim\" to swim. \n",
      "wait\n",
      "You arrive at the island unharmed. There s a house with 3 doors. One red, yellow and blue. Which colour do you choose?\n",
      "yellow\n",
      "YOU WIN!\n"
     ]
    }
   ],
   "source": [
    "# Treasure Island Game\n",
    "print('''\n",
    "*******************************************************************************\n",
    "          |                   |                  |                     |\n",
    " _________|________________.=\"\"_;=.______________|_____________________|_______\n",
    "|                   |  ,-\"_,=\"\"     `\"=.|                  |\n",
    "|___________________|__\"=._o`\"-._        `\"=.______________|___________________\n",
    "          |                `\"=._o`\"=._      _`\"=._                     |\n",
    " _________|_____________________:=._o \"=._.\"_.-=\"'\"=.__________________|_______\n",
    "|                   |    __.--\" , ; `\"=._o.\" ,-\"\"\"-._ \".   |\n",
    "|___________________|_._\"  ,. .` ` `` ,  `\"-._\"-._   \". '__|___________________\n",
    "          |           |o`\"=._` , \"` `; .\". ,  \"-._\"-._; ;              |\n",
    " _________|___________| ;`-.o`\"=._; .\" ` '`.\"\\` . \"-._ /_______________|_______\n",
    "|                   | |o;    `\"-.o`\"=._``  '` \" ,__.--o;   |\n",
    "|___________________|_| ;     (#) `-.o `\"=.`_.--\"_o.-; ;___|___________________\n",
    "____/______/______/___|o;._    \"      `\".o|o_.--\"    ;o;____/______/______/____\n",
    "/______/______/______/_\"=._o--._        ; | ;        ; ;/______/______/______/_\n",
    "____/______/______/______/__\"=._o--._   ;o|o;     _._;o;____/______/______/____\n",
    "/______/______/______/______/____\"=._o._; | ;_.--\"o.--\"_/______/______/______/_\n",
    "____/______/______/______/______/_____\"=.o|o_.--\"\"___/______/______/______/____\n",
    "/______/______/______/______/______/______/______/______/______/______/_____ /\n",
    "*******************************************************************************\n",
    "''')\n",
    "\n",
    "print(\"Welcome to Treasure Island. \\n\")\n",
    "print(\"Your mission is to find the treasure. \\n\")\n",
    "l_or_r = input('You are at a crossroad. Where do you want to go? Type \"left\" or \"right\" \\n')\n",
    "\n",
    "if l_or_r == \"right\":\n",
    "    print(\"Fall into a hole. GAME OVER! \\n\")\n",
    "elif l_or_r == \"left\":\n",
    "    swim_wait = input('You come to a lake.There is an island in the middle of the lake.Type \"wait\" to wait for a boat. Type \"swim\" to swim. \\n')\n",
    "    if swim_wait == \"swim\":\n",
    "        print(\"Attacked by Trout. GAME OVER! \\n\")\n",
    "    elif swim_wait == \"wait\":\n",
    "        door = input('You arrive at the island unharmed. There s a house with 3 doors. One red, yellow and blue. Which colour do you choose?\\n')\n",
    "        if door == \"red\":\n",
    "            print(\"Burned by fire. GAME OVER! \\n\")\n",
    "        elif door == \"blue\":\n",
    "            print(\"Burned by fire. GAME OVER! \\n\")\n",
    "        elif door == 'yellow':\n",
    "            print(\"YOU WIN!\")\n",
    "        else:\n",
    "            print(\"GAME OVER!\")"
   ]
  },
  {
   "cell_type": "code",
   "execution_count": null,
   "id": "84437115",
   "metadata": {},
   "outputs": [],
   "source": []
  }
 ],
 "metadata": {
  "kernelspec": {
   "display_name": "Python 3 (ipykernel)",
   "language": "python",
   "name": "python3"
  },
  "language_info": {
   "codemirror_mode": {
    "name": "ipython",
    "version": 3
   },
   "file_extension": ".py",
   "mimetype": "text/x-python",
   "name": "python",
   "nbconvert_exporter": "python",
   "pygments_lexer": "ipython3",
   "version": "3.9.12"
  }
 },
 "nbformat": 4,
 "nbformat_minor": 5
}
