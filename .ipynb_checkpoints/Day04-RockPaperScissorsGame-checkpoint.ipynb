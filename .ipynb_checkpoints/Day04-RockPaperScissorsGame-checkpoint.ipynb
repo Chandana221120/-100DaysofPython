{
 "cells": [
  {
   "cell_type": "code",
   "execution_count": 8,
   "id": "a7cdd745",
   "metadata": {},
   "outputs": [
    {
     "name": "stdout",
     "output_type": "stream",
     "text": [
      "6\n"
     ]
    }
   ],
   "source": [
    "# Random Module\n",
    "# askpython.com\n",
    "import random\n",
    "random_integer = random.randint(1,10)\n",
    "print(random_integer)"
   ]
  },
  {
   "cell_type": "code",
   "execution_count": 10,
   "id": "1b5be608",
   "metadata": {},
   "outputs": [
    {
     "name": "stdout",
     "output_type": "stream",
     "text": [
      "0.2643590619597954\n"
     ]
    }
   ],
   "source": [
    "# Random floating point ( chooses between 0.0 t0 1.0 excluding 1)\n",
    "random_float = random.random()\n",
    "print(random_float)"
   ]
  },
  {
   "cell_type": "code",
   "execution_count": 16,
   "id": "bb96bccb",
   "metadata": {},
   "outputs": [
    {
     "name": "stdout",
     "output_type": "stream",
     "text": [
      "4.532285233332903\n"
     ]
    }
   ],
   "source": [
    "# Random floating point ( between 0.0 t0 5)\n",
    "random_float5 = random.random()*5\n",
    "print(random_float5)"
   ]
  },
  {
   "cell_type": "code",
   "execution_count": 31,
   "id": "d5542716",
   "metadata": {},
   "outputs": [
    {
     "name": "stdout",
     "output_type": "stream",
     "text": [
      "Heads\n"
     ]
    }
   ],
   "source": [
    "# Generate random Heads or Tails\n",
    "r = random.randint(0,1)\n",
    "if r == 0:\n",
    "    print(\"Tails\")\n",
    "elif r == 1:\n",
    "    print(\"Heads\")"
   ]
  },
  {
   "cell_type": "code",
   "execution_count": null,
   "id": "7175b253",
   "metadata": {},
   "outputs": [],
   "source": [
    "# Lists https://docs.python.org/3/tutorial/datastructures.html\n",
    "L = [\"apple\",\"cherry\",\"pear\",\"banana\",\"pear\",\"cactus\",\"mango\",\"pear\",\"pineapple\"]\n",
    "\n",
    "L.append(\"melon\")\n",
    "L.insert(5,\"grape\")\n",
    "L.remove(\"apple\")\n",
    "L.index('banana')\n",
    "L.pop(2)\n",
    "L.count(\"pear\")\n",
    "L.reverse()\n",
    "L.sort()\n",
    "L.extend([\"pomegranate\", \"kiwi\", \"orange\"])"
   ]
  },
  {
   "cell_type": "code",
   "execution_count": 5,
   "id": "2de5a273",
   "metadata": {},
   "outputs": [
    {
     "name": "stdout",
     "output_type": "stream",
     "text": [
      "Give me everyone's names,seperated by comma.\n",
      " Angela,Ben,Jenny,Ken,Mike\n",
      "5\n",
      "Ben is paying today\n"
     ]
    }
   ],
   "source": [
    "# Banker Roulette using split\n",
    "name = input(\"Give me everyone's names,seperated by comma.\\n \")\n",
    "n = name.split(\",\")\n",
    "l = len(n)\n",
    "print(l)\n",
    "import random\n",
    "r_pick = random.randint(0,l-1)\n",
    "print(f\"{n[r_pick]} is paying today\")"
   ]
  },
  {
   "cell_type": "code",
   "execution_count": 6,
   "id": "0f88fc46",
   "metadata": {},
   "outputs": [
    {
     "data": {
      "text/plain": [
       "[['berries', 'apples', 'nectarines', 'peaches', 'pears'],\n",
       " ['kale', 'spinach', 'celery']]"
      ]
     },
     "execution_count": 6,
     "metadata": {},
     "output_type": "execute_result"
    }
   ],
   "source": [
    "# Nesting Lists\n",
    "fruits = [\"berries\",\"apples\",\"nectarines\",\"peaches\",\"pears\"]\n",
    "vegetables = [\"kale\",\"spinach\",\"celery\"]\n",
    "dirty_dozen = [fruits,vegetables]\n",
    "dirty_dozen"
   ]
  },
  {
   "cell_type": "code",
   "execution_count": 15,
   "id": "599b7898",
   "metadata": {},
   "outputs": [
    {
     "name": "stdout",
     "output_type": "stream",
     "text": [
      "['😡', '😈', '👹']\n",
      "['😁', '😆', '😂']\n",
      "['😣', '😖', '😫']\n",
      "\n",
      "Where do you want to put the treasure?\n",
      "23\n",
      "😖\n"
     ]
    }
   ],
   "source": [
    "# Treasure Map https://getemoji.com/\n",
    "row1 = ['😡', '😈', '👹']\n",
    "row2 = ['😁', '😆', '😂']\n",
    "row3 = ['😣', '😖', '😫']\n",
    "map1 = [row1,row2,row3]\n",
    "print(f\"{row1}\\n{row2}\\n{row3}\\n\")\n",
    "\n",
    "position = input(\"Where do you want to put the treasure?\\n\")\n",
    "\n",
    "row = int(position[0])\n",
    "column = int(position[1])\n",
    "\n",
    "print(map1[column-1][row-1])"
   ]
  },
  {
   "cell_type": "code",
   "execution_count": 27,
   "id": "22140e15",
   "metadata": {},
   "outputs": [
    {
     "name": "stdout",
     "output_type": "stream",
     "text": [
      "Welcome to the game of Rock,Paper and Scissors\n",
      "\n",
      "What do you choose? Type 0 for Rock, 1 for Paper or 2 for Scisscors\n",
      "1\n",
      "\n",
      "    _______\n",
      "---'   ____)____\n",
      "          ______)\n",
      "          _______)\n",
      "         _______)\n",
      "---.__________)\n",
      "\n",
      "Computer choose\n",
      "\n",
      "\n",
      "    _______\n",
      "---'   ____)\n",
      "      (_____)\n",
      "      (_____)\n",
      "      (____)\n",
      "---.__(___)\n",
      "\n",
      "You won!\n"
     ]
    }
   ],
   "source": [
    "# Rock Paper Scissors game\n",
    "rock = '''\n",
    "    _______\n",
    "---'   ____)\n",
    "      (_____)\n",
    "      (_____)\n",
    "      (____)\n",
    "---.__(___)\n",
    "'''\n",
    "paper = '''\n",
    "    _______\n",
    "---'   ____)____\n",
    "          ______)\n",
    "          _______)\n",
    "         _______)\n",
    "---.__________)\n",
    "'''\n",
    "scissors = '''\n",
    "    _______\n",
    "---'   ____)____\n",
    "          ______)\n",
    "       __________)\n",
    "      (____)\n",
    "---.__(___)\n",
    "'''\n",
    "\n",
    "print(\"Welcome to the game of Rock,Paper and Scissors\\n\")\n",
    "i = input(\"What do you choose? Type 0 for Rock, 1 for Paper or 2 for Scisscors\\n\")\n",
    "\n",
    "if i == \"0\":\n",
    "    print(rock)\n",
    "elif i == \"1\":\n",
    "    print(paper)\n",
    "elif i == \"2\":\n",
    "    print(scissors)\n",
    "else:\n",
    "    print(\"Not correct selection\")\n",
    "    \n",
    "print(\"Computer choose\\n\")\n",
    "import random\n",
    "computer = random.randint(0,2)\n",
    "\n",
    "if computer == 0:\n",
    "    print(rock)\n",
    "elif computer == 1:\n",
    "    print(paper)\n",
    "elif computer == 2:\n",
    "    print(scissors)\n",
    "\n",
    "if int(i) > computer:\n",
    "    print(\"You won!\")\n",
    "elif computer > int(i):\n",
    "    print(\"You lose!\")\n",
    "else:\n",
    "    print(\"Game draw!\")"
   ]
  },
  {
   "cell_type": "code",
   "execution_count": 28,
   "id": "564650b8",
   "metadata": {},
   "outputs": [
    {
     "name": "stdout",
     "output_type": "stream",
     "text": [
      "What do you choose? Type 0 for Rock, 1 for Paper or 2 for Scisscors\n",
      "2\n",
      "\n",
      "    _______\n",
      "---'   ____)____\n",
      "          ______)\n",
      "       __________)\n",
      "      (____)\n",
      "---.__(___)\n",
      "\n",
      "Computer choice\n",
      "\n",
      "\n",
      "    _______\n",
      "---'   ____)____\n",
      "          ______)\n",
      "          _______)\n",
      "         _______)\n",
      "---.__________)\n",
      "\n",
      "You win!\n"
     ]
    }
   ],
   "source": [
    "game_images = [rock,paper,scissors]\n",
    "user_choice = int(input(\"What do you choose? Type 0 for Rock, 1 for Paper or 2 for Scisscors\\n\"))\n",
    "print(game_images[user_choice])\n",
    "\n",
    "computer_choice = random.randint(0,2)\n",
    "print(\"Computer choice\\n\")\n",
    "print(game_images[computer_choice])\n",
    "\n",
    "if user_choice >= 3 or user_choice < 0:\n",
    "    print(\"You typed invalid number, you lose\")\n",
    "elif user_choice == 0 and computer_choice == 2:\n",
    "    print(\"You win!\")\n",
    "elif computer_choice == 0 and user_choice == 2:  \n",
    "    print(\"You lose!\")\n",
    "elif computer_choice > user_choice:  \n",
    "    print(\"You lose!\")\n",
    "elif user_choice > computer_choice:  \n",
    "    print(\"You win!\")    "
   ]
  }
 ],
 "metadata": {
  "kernelspec": {
   "display_name": "Python 3 (ipykernel)",
   "language": "python",
   "name": "python3"
  },
  "language_info": {
   "codemirror_mode": {
    "name": "ipython",
    "version": 3
   },
   "file_extension": ".py",
   "mimetype": "text/x-python",
   "name": "python",
   "nbconvert_exporter": "python",
   "pygments_lexer": "ipython3",
   "version": "3.9.12"
  }
 },
 "nbformat": 4,
 "nbformat_minor": 5
}
