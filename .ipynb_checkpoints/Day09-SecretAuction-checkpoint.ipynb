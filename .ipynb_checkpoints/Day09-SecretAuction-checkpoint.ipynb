{
 "cells": [
  {
   "cell_type": "code",
   "execution_count": 20,
   "id": "4b8951c9",
   "metadata": {},
   "outputs": [
    {
     "data": {
      "text/plain": [
       "{'Harry': 'Exceeds Expectation',\n",
       " 'Ron': 'Acceptable',\n",
       " 'Hermione': 'Outstanding',\n",
       " 'Draco': 'Acceptable',\n",
       " 'Neville': 'Fail'}"
      ]
     },
     "execution_count": 20,
     "metadata": {},
     "output_type": "execute_result"
    }
   ],
   "source": [
    "# Dictionaries\n",
    "student_scores = {\n",
    "    \"Harry\":81,\n",
    "    \"Ron\":78,\n",
    "    \"Hermione\":99,\n",
    "    \"Draco\":74,\n",
    "    \"Neville\":62,\n",
    "}\n",
    "\n",
    "student_grades = {}\n",
    "for i in student_scores:\n",
    "    score = student_scores[i]\n",
    "    if score > 90:\n",
    "        student_grades[i] = \"Outstanding\"\n",
    "    elif score > 80 and score <= 90:\n",
    "        student_grades[i] = \"Exceeds Expectation\"\n",
    "    elif score > 70 and score <= 80:\n",
    "        student_grades[i] = \"Acceptable\"\n",
    "    elif score < 70:\n",
    "        student_grades[i] = \"Fail\"\n",
    "        \n",
    "student_grades"
   ]
  },
  {
   "cell_type": "code",
   "execution_count": 22,
   "id": "9851a397",
   "metadata": {},
   "outputs": [
    {
     "data": {
      "text/plain": [
       "[{'country': 'France',\n",
       "  'cities_visited': ['Pairs', 'Lille', 'Dijon'],\n",
       "  'total_visits': 12},\n",
       " {'country': 'Germany',\n",
       "  'cities_visited': ['Berlin', 'Hamburg', 'Struttgart'],\n",
       "  'total_visits': 15}]"
      ]
     },
     "execution_count": 22,
     "metadata": {},
     "output_type": "execute_result"
    }
   ],
   "source": [
    "# Nesting Lists and Dictionaries\n",
    "# Nested list in a dict\n",
    "travel_log_dict_1 = {\n",
    "    \"France\": [\"Pairs\",\"Lille\"],\n",
    "    \"Germany\":[\"Berlin\", 'Hamburg', 'Struttgart']\n",
    "}\n",
    "# Nested dict in a dict\n",
    "travel_log_dict_2 = {\n",
    "    \"France\": {\"cities_visited\":[\"Pairs\",\"Lille\"], \"total_visits\": 12},\n",
    "    \"Germany\":{\"cities_visited\":[\"Berlin\", 'Hamburg', 'Struttgart'], \"total_visits\": 15},\n",
    "}\n",
    "\n",
    "#Nested dict in a list\n",
    "travel_log_list_3= [\n",
    "    {\"country\":\"France\" , \n",
    "     \"cities_visited\":[\"Pairs\",\"Lille\",\"Dijon\"], \n",
    "     \"total_visits\": 12\n",
    "    },\n",
    "    {\"country\":\"Germany\", \n",
    "     \"cities_visited\":[\"Berlin\", 'Hamburg', 'Struttgart'], \n",
    "     \"total_visits\": 15\n",
    "    },\n",
    "]\n",
    "\n",
    "travel_log_list_3"
   ]
  },
  {
   "cell_type": "code",
   "execution_count": 30,
   "id": "d03ceca1",
   "metadata": {},
   "outputs": [
    {
     "name": "stdout",
     "output_type": "stream",
     "text": [
      "[{'country': 'France', 'cities_visited': ['Pairs', 'Lille', 'Dijon'], 'total_visits': 12}, {'country': 'Germany', 'cities_visited': ['Berlin', 'Hamburg', 'Struttgart'], 'total_visits': 15}, {'country': 'Russia', 'cities_visited': ['Moscos', 'Saint Petersburg'], 'total_visits': 2}]\n"
     ]
    }
   ],
   "source": [
    "def add_new_country(country, total_visits, cities_visited):\n",
    "    new_dict = {}\n",
    "    new_dict[\"country\"] = country\n",
    "    new_dict[\"cities_visited\"] = cities_visited\n",
    "    new_dict[\"total_visits\"] = total_visits\n",
    "    travel_log_list_3.append(new_dict)\n",
    "    \n",
    "add_new_country(\"Russia\",2,[\"Moscos\", \"Saint Petersburg\"])    \n",
    "print(travel_log_list_3)"
   ]
  },
  {
   "cell_type": "code",
   "execution_count": 48,
   "id": "fae6565f",
   "metadata": {},
   "outputs": [
    {
     "name": "stdout",
     "output_type": "stream",
     "text": [
      "{}\n"
     ]
    }
   ],
   "source": [
    "auction_dict = {}\n",
    "print(auction_dict)"
   ]
  },
  {
   "cell_type": "code",
   "execution_count": 63,
   "id": "598ba1a6",
   "metadata": {
    "scrolled": true
   },
   "outputs": [
    {
     "name": "stdout",
     "output_type": "stream",
     "text": [
      "What is your name? \n",
      "Mike\n",
      "What is your bid?150\n",
      "{'Mike': 150}\n",
      "Are there any other bidders? Type 'yes' or 'no'.  yes\n",
      "What is your name? \n",
      "Jane\n",
      "What is your bid?145\n",
      "{'Mike': 150, 'Jane': 145}\n",
      "Are there any other bidders? Type 'yes' or 'no'.  yes\n",
      "What is your name? \n",
      "Zara\n",
      "What is your bid?160\n",
      "{'Mike': 150, 'Jane': 145, 'Zara': 160}\n",
      "Are there any other bidders? Type 'yes' or 'no'.  yes\n",
      "What is your name? \n",
      "Zike\n",
      "What is your bid?120\n",
      "{'Mike': 150, 'Jane': 145, 'Zara': 160, 'Zike': 120}\n",
      "Are there any other bidders? Type 'yes' or 'no'.  no\n",
      "The highest bidder is Zara with highest bid amount of 160\n",
      "Bidding game ends\n"
     ]
    }
   ],
   "source": [
    "# Live Aution program - A first-price sealed-bid acution FPSABA (wiki)\n",
    "logo = '''\n",
    "                         ___________\n",
    "                         \\         /\n",
    "                          )_______(\n",
    "                          |\"\"\"\"\"\"\"|_.-._,.---------.,_.-._\n",
    "                          |       | | |               | | ''-.\n",
    "                          |       |_| |_             _| |_..-'\n",
    "                          |_______| '-' `'---------'` '-'\n",
    "                          )\"\"\"\"\"\"\"(\n",
    "                         /_________\\\\\n",
    "                       .-------------.\n",
    "                      /_______________\\\\\n",
    "'''\n",
    "\n",
    "auction_dict = {}\n",
    "quit = 'yes'\n",
    "dict1 = {}\n",
    "while quit != 'no':\n",
    "    name = input(\"What is your name? \\n\")\n",
    "    bid  = int(input(\"What is your bid?\"))\n",
    "    dict1[name] = bid\n",
    "    auction_dict.update(dict1)\n",
    "    print(auction_dict)\n",
    "    quit = input(\"Are there any other bidders? Type 'yes' or 'no'.  \")\n",
    "\n",
    "winner = max(auction_dict, key=auction_dict.get)\n",
    "\n",
    "print(f\"The highest bidder is {winner} with highest bid amount of {auction_dict[winner]}\")\n",
    "print(\"Bidding game ends\")    "
   ]
  },
  {
   "cell_type": "code",
   "execution_count": 62,
   "id": "78463bfa",
   "metadata": {},
   "outputs": [
    {
     "name": "stdout",
     "output_type": "stream",
     "text": [
      "The winner is Zara with a bid of 160\n"
     ]
    }
   ],
   "source": [
    "def find_highest_bidder(bidding_record):\n",
    "    highest_bid = 0\n",
    "    winner = \"\"\n",
    "    # bidding_record = {\"Angela\":123,\"James\":321}\n",
    "    for bidder in bidding_record:\n",
    "        bid_amount = bidding_record[bidder]\n",
    "        if bid_amount > highest_bid:\n",
    "            highest_bid = bid_amount\n",
    "            winner = bidder\n",
    "    print(f\"The winner is {winner} with a bid of {highest_bid}\") \n",
    "\n",
    "bids = {'Mike': 150, 'Jane': 145, 'Zara': 160, 'Zike': 120}\n",
    "find_highest_bidder(bids)        \n",
    "        "
   ]
  }
 ],
 "metadata": {
  "kernelspec": {
   "display_name": "Python 3 (ipykernel)",
   "language": "python",
   "name": "python3"
  },
  "language_info": {
   "codemirror_mode": {
    "name": "ipython",
    "version": 3
   },
   "file_extension": ".py",
   "mimetype": "text/x-python",
   "name": "python",
   "nbconvert_exporter": "python",
   "pygments_lexer": "ipython3",
   "version": "3.9.12"
  }
 },
 "nbformat": 4,
 "nbformat_minor": 5
}
