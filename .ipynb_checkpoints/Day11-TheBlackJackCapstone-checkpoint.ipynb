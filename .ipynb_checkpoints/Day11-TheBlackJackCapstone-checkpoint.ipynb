{
 "cells": [
  {
   "cell_type": "code",
   "execution_count": 1,
   "id": "0ee9b6ce",
   "metadata": {},
   "outputs": [],
   "source": [
    "logo = \"\"\"\n",
    ".------.            _     _            _    _            _    \n",
    "|A_  _ |.          | |   | |          | |  (_)          | |   \n",
    "|( \\/ ).-----.     | |__ | | __ _  ___| | ___  __ _  ___| | __\n",
    "| \\  /|K /\\  |     | '_ \\| |/ _` |/ __| |/ / |/ _` |/ __| |/ /\n",
    "|  \\/ | /  \\ |     | |_) | | (_| | (__|   <| | (_| | (__|   < \n",
    "`-----| \\  / |     |_.__/|_|\\__,_|\\___|_|\\_\\ |\\__,_|\\___|_|\\_\\\\\n",
    "      |  \\/ K|                            _/ |                \n",
    "      `------'                           |__/           \n",
    "\"\"\"               "
   ]
  },
  {
   "cell_type": "code",
   "execution_count": null,
   "id": "12ae714f",
   "metadata": {},
   "outputs": [],
   "source": [
    "############### Blackjack Project #####################\n",
    "\n",
    "#Difficulty Normal 😎: Use all Hints below to complete the project.\n",
    "#Difficulty Hard 🤔: Use only Hints 1, 2, 3 to complete the project.\n",
    "#Difficulty Extra Hard 😭: Only use Hints 1 & 2 to complete the project.\n",
    "#Difficulty Expert 🤯: Only use Hint 1 to complete the project.\n",
    "\n",
    "############### Our Blackjack House Rules #####################\n",
    "\n",
    "## The deck is unlimited in size. \n",
    "## There are no jokers. \n",
    "## The Jack/Queen/King all count as 10.\n",
    "## The the Ace can count as 11 or 1.\n",
    "## Use the following list as the deck of cards:\n",
    "## cards = [11, 2, 3, 4, 5, 6, 7, 8, 9, 10, 10, 10, 10]\n",
    "## The cards in the list have equal probability of being drawn.\n",
    "## Cards are not removed from the deck as they are drawn.\n",
    "## The computer is the dealer.\n",
    "\n",
    "##################### Hints #####################\n",
    "\n",
    "#Hint 1: Go to this website and try out the Blackjack game: \n",
    "#   https://games.washingtonpost.com/games/blackjack/\n",
    "#Then try out the completed Blackjack project here: \n",
    "#   http://blackjack-final.appbrewery.repl.run\n",
    "\n",
    "#Hint 2: Read this breakdown of program requirements: \n",
    "#   http://listmoz.com/view/6h34DJpvJBFVRlZfJvxF\n",
    "#Then try to create your own flowchart for the program.\n",
    "\n",
    "#Hint 3: Download and read this flow chart I've created: \n",
    "#   https://drive.google.com/uc?export=download&id=1rDkiHCrhaf9eX7u7yjM1qwSuyEk-rPnt\n",
    "\n",
    "#Hint 4: Create a deal_card() function that uses the List below to *return* a random card.\n",
    "#11 is the Ace.\n",
    "#cards = [11, 2, 3, 4, 5, 6, 7, 8, 9, 10, 10, 10, 10]\n",
    "\n",
    "#Hint 5: Deal the user and computer 2 cards each using deal_card() and append().\n",
    "#user_cards = []\n",
    "#computer_cards = []\n"
   ]
  },
  {
   "cell_type": "code",
   "execution_count": 2,
   "id": "45087c69",
   "metadata": {},
   "outputs": [
    {
     "name": "stdout",
     "output_type": "stream",
     "text": [
      "Here are the user cards chose: [2, 10]\n",
      "Here are the user cards chose: [5, 9]\n",
      "Here are the user score is: 12\n",
      "Here are the computer score is: 14\n",
      "computer\n"
     ]
    }
   ],
   "source": [
    "def deal_card():\n",
    "    import random\n",
    "    cards = [11, 2, 3, 4, 5, 6, 7, 8, 9, 10, 10, 10, 10]\n",
    "    chosen_card = random.choice(cards)\n",
    "    return chosen_card\n",
    "deal_card()\n",
    "\n",
    "user_cards = []\n",
    "computer_cards = []\n",
    "\n",
    "for i in range(2):\n",
    "    user_cards.append(deal_card())\n",
    "    computer_cards.append(deal_card())\n",
    "print(f\"Here are the user cards chose: {user_cards}\" )\n",
    "print(f\"Here are the user cards chose: {computer_cards}\")\n",
    "\n",
    "user_score = sum(user_cards)\n",
    "print(f\"Here are the user score is: {user_score}\")\n",
    "computer_score = sum(computer_cards)\n",
    "print(f\"Here are the computer score is: {computer_score}\")\n",
    "\n",
    "if user_score > computer_score:\n",
    "    print('user')\n",
    "elif computer_score > user_score:\n",
    "    print ('computer')\n",
    "user_score\n",
    "\n",
    "if '10' in user_cards:\n",
    "    print('user')\n",
    "elif '10' in computer_cards:\n",
    "    print('computer')"
   ]
  },
  {
   "cell_type": "code",
   "execution_count": 23,
   "id": "aa0078f3",
   "metadata": {},
   "outputs": [
    {
     "name": "stdout",
     "output_type": "stream",
     "text": [
      "Here are the user cards chose: [10, 8]\n",
      "Here are the computer cards chose: [10, 10]\n"
     ]
    }
   ],
   "source": [
    "# Step 1: Deal both user and computer a starting hand of 2 random card values.\n",
    "user_cards = []\n",
    "computer_cards = []\n",
    "\n",
    "def deal_card():\n",
    "    import random\n",
    "    cards = [11, 2, 3, 4, 5, 6, 7, 8, 9, 10, 10, 10, 10]\n",
    "    chosen_card = random.choice(cards)\n",
    "    return chosen_card\n",
    "deal_card()\n",
    "\n",
    "for i in range(2):\n",
    "    user_cards.append(deal_card())\n",
    "    computer_cards.append(deal_card())\n",
    "print(f\"Here are the user cards chose: {user_cards}\" )\n",
    "print(f\"Here are the computer cards chose: {computer_cards}\")\n",
    "\n"
   ]
  },
  {
   "cell_type": "code",
   "execution_count": 27,
   "id": "e0bb3723",
   "metadata": {},
   "outputs": [],
   "source": [
    "# Step 2: Detect when computer or user has a blackjack. (Ace + 10 value card).\n",
    "#user_cards = [10,1]\n",
    "#computer_cards = [11,9]\n",
    "def black_jack():\n",
    "    black = [10,11]\n",
    "    if all(values in black for values in user_cards):\n",
    "        return True\n",
    "    elif all(values in black for values in computer_cards):\n",
    "        return True\n",
    "    else:\n",
    "        False\n",
    "\n",
    "if not black_jack():\n",
    "    print(\"continue\")"
   ]
  },
  {
   "cell_type": "code",
   "execution_count": 26,
   "id": "5f187bf0",
   "metadata": {},
   "outputs": [
    {
     "name": "stdout",
     "output_type": "stream",
     "text": [
      "continue\n"
     ]
    }
   ],
   "source": [
    "# Step 3: If computer gets blackjack, then the user loses (even if the user also has a blackjack). If the user gets a blackjack, then they win (unless the computer also has a blackjack).\n",
    "def winner():\n",
    "    if black_jack():\n",
    "        black = [10,11]\n",
    "        if all(values in black for values in user_cards) and all(values in black for values in computer_cards):\n",
    "            return \"Computer wins\"\n",
    "        elif all(values in black for values in user_cards) :\n",
    "            return \"User wins\"\n",
    "        else:\n",
    "            return False\n",
    "\n",
    "if not winner():\n",
    "    print(\"continue\")"
   ]
  },
  {
   "cell_type": "code",
   "execution_count": 28,
   "id": "5012cca5",
   "metadata": {},
   "outputs": [
    {
     "name": "stdout",
     "output_type": "stream",
     "text": [
      "Here are the user score is: 18\n",
      "Here are the computer score is: 20\n"
     ]
    }
   ],
   "source": [
    "# Step 4: Calcualte the users and computers scores based on their ard values.\n",
    "user_score = sum(user_cards)\n",
    "print(f\"Here are the user score is: {user_score}\")\n",
    "computer_score = sum(computer_cards)\n",
    "print(f\"Here are the computer score is: {computer_score}\")"
   ]
  },
  {
   "cell_type": "code",
   "execution_count": 29,
   "id": "239ea4c9",
   "metadata": {},
   "outputs": [
    {
     "name": "stdout",
     "output_type": "stream",
     "text": [
      "Do you want another card? Y or NY\n",
      "[10, 8, 7]\n"
     ]
    }
   ],
   "source": [
    "# Step 5: If an ace is drawn, count it as 11. But if the total goes over 21, count the ace as 1 instead.\n",
    "user_extra_1 = input(\"Do you want another card? Y or N\")\n",
    "if user_extra_1 == 'Y':\n",
    "    user_cards.append(deal_card())\n",
    "    if user_cards[2] == 11:\n",
    "        if sum(user_cards) > 21:\n",
    "            user_cards[2] = 1\n",
    "        else:\n",
    "            user_cards[2] = 11\n",
    "print(user_cards)"
   ]
  },
  {
   "cell_type": "code",
   "execution_count": 30,
   "id": "b5b8cb82",
   "metadata": {},
   "outputs": [
    {
     "name": "stdout",
     "output_type": "stream",
     "text": [
      "Computer's first cards is 10\n"
     ]
    }
   ],
   "source": [
    "# Step 6: Reveal computer's first card to the user.\n",
    "print(f\"Computer's first cards is {computer_cards[0]}\")"
   ]
  },
  {
   "cell_type": "code",
   "execution_count": null,
   "id": "205cd19e",
   "metadata": {},
   "outputs": [],
   "source": [
    "# Step 7: Game ends immediately when user score goes over 21 or if the user or computer gets a blackjack.\n",
    "if sum(user_cards) > 21:\n",
    "    return \"Game Ends!Computer wins!\""
   ]
  },
  {
   "cell_type": "code",
   "execution_count": 33,
   "id": "d9d2ef0b",
   "metadata": {},
   "outputs": [
    {
     "name": "stdout",
     "output_type": "stream",
     "text": [
      "Game Ends! Computer wins!\n"
     ]
    }
   ],
   "source": [
    "# Step 8: Ask the user if they want to get another card.\n",
    "if sum(user_cards) > 21:\n",
    "    print(\"Game Ends! Computer wins!\")\n",
    "else:\n",
    "    user_extra_2 = input(\"Do you want another card? Y or N\")\n",
    "    if user_extra_2 == 'Y':\n",
    "        user_cards.append(deal_card())\n",
    "    elif user_extra_2 == 'N':\n",
    "        print( user_cards)"
   ]
  },
  {
   "cell_type": "code",
   "execution_count": 34,
   "id": "60e3a1e0",
   "metadata": {},
   "outputs": [],
   "source": [
    "# Step 9: Once the user is done and no longer wants to draw any more cards, let the computer play.\n",
    "# The computer should keep drawing cards unless their score goes over 16.\n",
    "\n",
    "while sum(computer_cards) <= 16:\n",
    "    computer_cards.append(deal_card())  "
   ]
  },
  {
   "cell_type": "code",
   "execution_count": 59,
   "id": "2b4a0427",
   "metadata": {},
   "outputs": [
    {
     "name": "stdout",
     "output_type": "stream",
     "text": [
      "\n",
      ".------.            _     _            _    _            _    \n",
      "|A_  _ |.          | |   | |          | |  (_)          | |   \n",
      "|( \\/ ).-----.     | |__ | | __ _  ___| | ___  __ _  ___| | __\n",
      "| \\  /|K /\\  |     | '_ \\| |/ _` |/ __| |/ / |/ _` |/ __| |/ /\n",
      "|  \\/ | /  \\ |     | |_) | | (_| | (__|   <| | (_| | (__|   < \n",
      "`-----| \\  / |     |_.__/|_|\\__,_|\\___|_|\\_\\ |\\__,_|\\___|_|\\_\\\n",
      "      |  \\/ K|                            _/ |                \n",
      "      `------'                           |__/           \n",
      "\n",
      "Here are the user cards chose: [10, 7]\n",
      "Here are the computer cards chose: [10, 10]\n",
      "Do you want another card? Y or NN\n",
      "User cards are [10, 7]\n",
      "Computer's first cards is 10\n",
      "User's total is 17\n",
      "Do you want another card? Y or NN\n",
      "Game Ends! Computer wins! with computer score 20 and user_score 17\n"
     ]
    }
   ],
   "source": [
    "# Putting everything together\n",
    "print(logo)\n",
    "user_cards = []\n",
    "computer_cards = []\n",
    "\n",
    "def deal_card():\n",
    "    import random\n",
    "    cards = [11, 2, 3, 4, 5, 6, 7, 8, 9, 10, 10, 10, 10]\n",
    "    chosen_card = random.choice(cards)\n",
    "    return chosen_card\n",
    "deal_card()\n",
    "\n",
    "for i in range(2):\n",
    "    user_cards.append(deal_card())\n",
    "    computer_cards.append(deal_card())\n",
    "print(f\"Here are the user cards chose: {user_cards}\" )\n",
    "print(f\"Here are the computer cards chose: {computer_cards}\")\n",
    "\n",
    "def black_jack():\n",
    "    black = [10,11]\n",
    "    if all(values in black for values in user_cards):\n",
    "        return True\n",
    "    elif all(values in black for values in computer_cards):\n",
    "        return True\n",
    "    else:\n",
    "        False\n",
    "        \n",
    "def winner():\n",
    "    if black_jack():\n",
    "        black = [10,11]\n",
    "        if all(values in black for values in user_cards) and all(values in black for values in computer_cards):\n",
    "            return \"Computer wins\"\n",
    "        elif all(values in black for values in user_cards) :\n",
    "            return \"User wins\"\n",
    "        else:\n",
    "            return False\n",
    "\n",
    "win = winner()\n",
    "while not win:\n",
    "    user_extra_1 = input(\"Do you want another card? Y or N\")\n",
    "    if user_extra_1 == 'Y':\n",
    "        user_cards.append(deal_card())\n",
    "        if user_cards[2] == 11:\n",
    "            if sum(user_cards) > 21:\n",
    "                user_cards[2] = 1\n",
    "            else:\n",
    "                user_cards[2] = 11\n",
    "        print(f\"User cards are {user_cards}\")  \n",
    "    elif user_extra_1 == 'N':\n",
    "        print(f\"User cards are {user_cards}\")  \n",
    "    \n",
    "    if sum(user_cards) > 21:\n",
    "        win = True\n",
    "        print(\"Game Ends! Computer wins!\")\n",
    "    elif sum(user_cards) == 21:\n",
    "        win = True\n",
    "        print(\"Game Ends! User wins!\")\n",
    "    else:\n",
    "        print(f\"Computer's first cards is {computer_cards[0]}\")\n",
    "        print(f\"User's total is {sum(user_cards)}\")\n",
    "        user_extra_2 = input(\"Do you want another card? Y or N\")\n",
    "        if user_extra_2 == 'Y':\n",
    "            user_cards.append(deal_card())\n",
    "        elif user_extra_2 == 'N':\n",
    "            while sum(computer_cards) <= 16:\n",
    "                computer_cards.append(deal_card()) \n",
    "                print(f\"Computer sum is {sum(computer_cards)}\")\n",
    "    \n",
    "    if sum(computer_cards) > sum(user_cards):\n",
    "        win = True\n",
    "        print(f\"Game Ends! Computer wins! with computer score {sum(computer_cards)} and user_score { sum(user_cards)}\")\n",
    "    elif sum(user_cards) > sum(computer_cards):\n",
    "        win = True\n",
    "        print(f\"Game Ends! User wins! with user_score { sum(user_cards)} and computer score {sum(computer_cards)}\")\n",
    "    elif sum(computer_cards) == sum(user_cards): \n",
    "        win = True\n",
    "        print(f\"Game Ends in DRAW! with user_score { sum(user_cards)} and computer score {sum(computer_cards)}\")\n",
    "   "
   ]
  },
  {
   "cell_type": "code",
   "execution_count": null,
   "id": "772a6aa3",
   "metadata": {},
   "outputs": [],
   "source": []
  },
  {
   "cell_type": "code",
   "execution_count": null,
   "id": "c8df6f1b",
   "metadata": {},
   "outputs": [],
   "source": []
  }
 ],
 "metadata": {
  "kernelspec": {
   "display_name": "Python 3 (ipykernel)",
   "language": "python",
   "name": "python3"
  },
  "language_info": {
   "codemirror_mode": {
    "name": "ipython",
    "version": 3
   },
   "file_extension": ".py",
   "mimetype": "text/x-python",
   "name": "python",
   "nbconvert_exporter": "python",
   "pygments_lexer": "ipython3",
   "version": "3.9.12"
  }
 },
 "nbformat": 4,
 "nbformat_minor": 5
}
