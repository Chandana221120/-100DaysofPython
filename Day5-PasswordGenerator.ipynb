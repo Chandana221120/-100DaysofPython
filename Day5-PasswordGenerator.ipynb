{
 "cells": [
  {
   "cell_type": "code",
   "execution_count": 7,
   "id": "bc494886",
   "metadata": {},
   "outputs": [
    {
     "name": "stdout",
     "output_type": "stream",
     "text": [
      "apple\n",
      "apple-pie\n",
      "peach\n",
      "peach-pie\n",
      "pear\n",
      "pear-pie\n",
      "grape\n",
      "grape-pie\n",
      "['apple', 'peach', 'pear', 'grape']\n"
     ]
    }
   ],
   "source": [
    "# Loops: For loop\n",
    "fruits = [\"apple\",\"peach\",\"pear\",\"grape\"]\n",
    "\n",
    "for i in fruits:\n",
    "    print(i)\n",
    "    print( i + \"-pie\")\n",
    "print(fruits)    "
   ]
  },
  {
   "cell_type": "code",
   "execution_count": 13,
   "id": "b159fe9b",
   "metadata": {},
   "outputs": [
    {
     "name": "stdout",
     "output_type": "stream",
     "text": [
      "164\n"
     ]
    }
   ],
   "source": [
    "# Average Height\n",
    "student_heights = [180,124,165,173,189,169,146]\n",
    "\n",
    "total = 0\n",
    "for i in range(0,len(student_heights)):\n",
    "    total += student_heights[i]\n",
    "    avg = total/len(student_heights)\n",
    "print(round(avg))"
   ]
  },
  {
   "cell_type": "code",
   "execution_count": 19,
   "id": "6b253d11",
   "metadata": {},
   "outputs": [
    {
     "name": "stdout",
     "output_type": "stream",
     "text": [
      "The highest score in class is: 91 \n",
      "The highest score in class is: 91 \n"
     ]
    }
   ],
   "source": [
    "# Highest Score\n",
    "student_scores = [78,65,89,86,55,91,64,89]\n",
    "print(f\"The highest score in class is: {max(student_scores)} \")\n",
    "\n",
    "# 2nd method using for loop\n",
    "highest_score = 0\n",
    "for score in student_scores:\n",
    "    if score > highest_score:\n",
    "        highest_score = score\n",
    "print(f\"The highest score in class is: {highest_score} \")        "
   ]
  },
  {
   "cell_type": "code",
   "execution_count": 28,
   "id": "757d6e20",
   "metadata": {},
   "outputs": [
    {
     "name": "stdout",
     "output_type": "stream",
     "text": [
      "5\n",
      "6\n",
      "7\n",
      "8\n",
      "9\n",
      "10\n",
      "5050\n"
     ]
    }
   ],
   "source": [
    "# for loop and range function\n",
    "for number in range(5,11):\n",
    "    print(number)\n",
    "\n",
    "# example: Calcualte sum of numbers 1 to 100 including 100\n",
    "total = 0\n",
    "for i in range(1,101):\n",
    "    total += i\n",
    "print(total)"
   ]
  },
  {
   "cell_type": "code",
   "execution_count": 34,
   "id": "7ff6c7bd",
   "metadata": {},
   "outputs": [
    {
     "name": "stdout",
     "output_type": "stream",
     "text": [
      "2550\n",
      "2550\n"
     ]
    }
   ],
   "source": [
    "# example: Calcualte sum of all even numbers 1 to 100 including 100\n",
    "total2 = 0\n",
    "for i in range(1,101):\n",
    "    if i % 2 == 0:\n",
    "        total2 += i\n",
    "print(total2)\n",
    "\n",
    "total3 = 0\n",
    "for i in range(2,101,2):\n",
    "    total3 += i\n",
    "print(total3)"
   ]
  },
  {
   "cell_type": "code",
   "execution_count": 40,
   "id": "5ffe30d6",
   "metadata": {},
   "outputs": [
    {
     "name": "stdout",
     "output_type": "stream",
     "text": [
      "1\n",
      "2\n",
      "3 Fizz\n",
      "4\n",
      "5 Buzz\n",
      "6 Fizz\n",
      "7\n",
      "8\n",
      "9 Fizz\n",
      "10 Buzz\n",
      "11\n",
      "12 Fizz\n",
      "13\n",
      "14\n",
      "15 FizzBuzz\n",
      "16\n",
      "17\n",
      "18 Fizz\n",
      "19\n",
      "20 Buzz\n",
      "21 Fizz\n",
      "22\n",
      "23\n",
      "24 Fizz\n",
      "25 Buzz\n",
      "26\n",
      "27 Fizz\n",
      "28\n",
      "29\n",
      "30 FizzBuzz\n",
      "31\n",
      "32\n",
      "33 Fizz\n",
      "34\n",
      "35 Buzz\n",
      "36 Fizz\n",
      "37\n",
      "38\n",
      "39 Fizz\n",
      "40 Buzz\n",
      "41\n",
      "42 Fizz\n",
      "43\n",
      "44\n",
      "45 FizzBuzz\n",
      "46\n",
      "47\n",
      "48 Fizz\n",
      "49\n",
      "50 Buzz\n",
      "51 Fizz\n",
      "52\n",
      "53\n",
      "54 Fizz\n",
      "55 Buzz\n",
      "56\n",
      "57 Fizz\n",
      "58\n",
      "59\n",
      "60 FizzBuzz\n",
      "61\n",
      "62\n",
      "63 Fizz\n",
      "64\n",
      "65 Buzz\n",
      "66 Fizz\n",
      "67\n",
      "68\n",
      "69 Fizz\n",
      "70 Buzz\n",
      "71\n",
      "72 Fizz\n",
      "73\n",
      "74\n",
      "75 FizzBuzz\n",
      "76\n",
      "77\n",
      "78 Fizz\n",
      "79\n",
      "80 Buzz\n",
      "81 Fizz\n",
      "82\n",
      "83\n",
      "84 Fizz\n",
      "85 Buzz\n",
      "86\n",
      "87 Fizz\n",
      "88\n",
      "89\n",
      "90 FizzBuzz\n",
      "91\n",
      "92\n",
      "93 Fizz\n",
      "94\n",
      "95 Buzz\n",
      "96 Fizz\n",
      "97\n",
      "98\n",
      "99 Fizz\n",
      "100 Buzz\n"
     ]
    }
   ],
   "source": [
    "# Fizz Buzz Challenege\n",
    "# Print all numbers between 1 to 100, if divisible by 3 then Fizz, if div by 5 the Buzz,\n",
    "# if div by both 3 and 5, then FizzBuzz\n",
    "\n",
    "for i in range(1,101):\n",
    "    if (i % 3 == 0 and i % 5 == 0):\n",
    "        print(i , 'FizzBuzz')\n",
    "    elif i % 3 == 0:\n",
    "        print(i , 'Fizz')\n",
    "    elif i % 5 == 0:\n",
    "        print(i , 'Buzz')\n",
    "    else:\n",
    "        print(i)"
   ]
  },
  {
   "cell_type": "code",
   "execution_count": 48,
   "id": "f8764dbd",
   "metadata": {},
   "outputs": [
    {
     "name": "stdout",
     "output_type": "stream",
     "text": [
      "Welcome to PyPassword Generator!\n",
      "\n",
      "How many letters would you like in your password?\n",
      "14\n",
      "How many symbols would you like?\n",
      "3\n",
      "How many numbers would you like?\n",
      "3\n",
      "['V', 'S', 'a', 'D', 'M', 'd', 'h', 'e', 'O', 'p', 'K', 'r', 'z', 'o', '#', '!', '+', '9', '2', '2']\n",
      "['V', '9', 'O', 'S', 'M', 'e', '2', '2', '+', 'a', 'r', 'D', '!', '#', 'p', 'o', 'K', 'z', 'h', 'd']\n",
      "Here is your password: V9OSMe22+arD!#poKzhd\n"
     ]
    }
   ],
   "source": [
    "## Create a Password Generator\n",
    "\n",
    "#import string\n",
    "#string.ascii_letters\n",
    "import random\n",
    "\n",
    "numbers = ['0', '1', '2', '3', '4', '5', '6', '7', '8', '9']\n",
    "symbols = ['!', '#', '$', '%', '&', '(', ')', '*', '+']\n",
    "\n",
    "print(\"Welcome to PyPassword Generator!\\n\")\n",
    "letters_user = int(input(\"How many letters would you like in your password?\\n\"))\n",
    "symbols_user = int(input(\"How many symbols would you like?\\n\"))\n",
    "numbers_user = int(input(\"How many numbers would you like?\\n\"))\n",
    "\n",
    "password = []\n",
    "\n",
    "for char in range(1, letters_user+1):\n",
    "    password.append(random.choice(string.ascii_letters))\n",
    "for sym in range(1, symbols_user+1):\n",
    "    password += random.choice(symbols)\n",
    "for num in range(1,numbers_user+1):\n",
    "    password += random.choice(numbers)\n",
    "    \n",
    "print(password)\n",
    "random.shuffle(password)\n",
    "print(password)\n",
    "\n",
    "final_pw = \"\"\n",
    "for i in password:\n",
    "    final_pw += i\n",
    "\n",
    "print(f\"Here is your password: {final_pw}\")"
   ]
  },
  {
   "cell_type": "code",
   "execution_count": null,
   "id": "f9f87c65",
   "metadata": {},
   "outputs": [],
   "source": []
  }
 ],
 "metadata": {
  "kernelspec": {
   "display_name": "Python 3 (ipykernel)",
   "language": "python",
   "name": "python3"
  },
  "language_info": {
   "codemirror_mode": {
    "name": "ipython",
    "version": 3
   },
   "file_extension": ".py",
   "mimetype": "text/x-python",
   "name": "python",
   "nbconvert_exporter": "python",
   "pygments_lexer": "ipython3",
   "version": "3.9.12"
  }
 },
 "nbformat": 4,
 "nbformat_minor": 5
}
